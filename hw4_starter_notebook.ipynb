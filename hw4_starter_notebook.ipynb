{
 "cells": [
  {
   "cell_type": "markdown",
   "metadata": {},
   "source": [
    "# Homework 4: Modeling Text Data\n",
    "\n",
    "### Team Member 1:\n",
    "* UNI:  mmt2167\n",
    "* Name: Moorissa Tjokro\n",
    "\n",
    "### Team Member 2 [optional]:\n",
    "* UNI: jwh2163\n",
    "* Name: Jager Hartman"
   ]
  },
  {
   "cell_type": "markdown",
   "metadata": {},
   "source": [
    "You can find the data here: https://data.boston.gov/dataset/vision-zero-entry"
   ]
  },
  {
   "cell_type": "markdown",
   "metadata": {},
   "source": [
    "# Task1 - Data Cleaning  [10 points]"
   ]
  },
  {
   "cell_type": "markdown",
   "metadata": {},
   "source": [
    "Load the data, visualize the class distribution. Clean up the target labels. Some categories have been arbitrarily split and need to be consolidated. "
   ]
  },
  {
   "cell_type": "markdown",
   "metadata": {},
   "source": [
    "### Load data"
   ]
  },
  {
   "cell_type": "code",
   "execution_count": 1,
   "metadata": {
    "collapsed": true
   },
   "outputs": [],
   "source": [
    "%matplotlib inline\n",
    "import numpy as np\n",
    "import pandas as pd\n",
    "import matplotlib.pyplot as plt\n",
    "import matplotlib.pylab as pylab\n",
    "import time\n",
    "import io\n",
    "import requests\n",
    "from scipy import ndimage\n",
    "from pandas.io.gbq import read_gbq\n",
    "plt.rcParams[\"figure.dpi\"] = 100\n",
    "pylab.rcParams['figure.figsize'] = 8, 6\n",
    "np.set_printoptions(precision=3, suppress=True)"
   ]
  },
  {
   "cell_type": "code",
   "execution_count": 2,
   "metadata": {
    "collapsed": false
   },
   "outputs": [
    {
     "data": {
      "text/plain": [
       "'\\nprint(df.shape)\\ndf.head()\\n'"
      ]
     },
     "execution_count": 2,
     "metadata": {},
     "output_type": "execute_result"
    }
   ],
   "source": [
    "start = time.clock()\n",
    "\n",
    "url = 'http://bostonopendata-boston.opendata.arcgis.com/datasets/5bed19f1f9cb41329adbafbd8ad260e5_0.csv'\n",
    "s=requests.get(url).content\n",
    "df=pd.read_csv(io.StringIO(s.decode('utf-8')))\n",
    "'''\n",
    "print(df.shape)\n",
    "df.head()\n",
    "'''"
   ]
  },
  {
   "cell_type": "code",
   "execution_count": 3,
   "metadata": {
    "collapsed": false
   },
   "outputs": [
    {
     "data": {
      "text/plain": [
       "'\\ndf.dtypes\\n\\nOUTPUT:\\n    \\nX              float64\\nY              float64\\nOBJECTID         int64\\nGLOBALID       float64\\nREQUESTID      float64\\nREQUESTTYPE     object\\nREQUESTDATE     object\\nSTATUS          object\\nSTREETSEGID      int64\\nCOMMENTS        object\\nUSERTYPE        object\\ndtype: object\\n  '"
      ]
     },
     "execution_count": 3,
     "metadata": {},
     "output_type": "execute_result"
    }
   ],
   "source": [
    "# check data types\n",
    "'''\n",
    "df.dtypes\n",
    "\n",
    "OUTPUT:\n",
    "    \n",
    "X              float64\n",
    "Y              float64\n",
    "OBJECTID         int64\n",
    "GLOBALID       float64\n",
    "REQUESTID      float64\n",
    "REQUESTTYPE     object\n",
    "REQUESTDATE     object\n",
    "STATUS          object\n",
    "STREETSEGID      int64\n",
    "COMMENTS        object\n",
    "USERTYPE        object\n",
    "dtype: object\n",
    "  '''  "
   ]
  },
  {
   "cell_type": "markdown",
   "metadata": {},
   "source": [
    "### Clean up the target label `REQUESTTYPE`"
   ]
  },
  {
   "cell_type": "code",
   "execution_count": 4,
   "metadata": {
    "collapsed": false
   },
   "outputs": [
    {
     "data": {
      "text/plain": [
       "array([ '\" src=\"images/01 - Not enough time to cross.png\"></span>&nbsp;there\\'s not enough time to cross the street',\n",
       "       '\" src=\"images/02 - Wait is too long.png\"></span>&nbsp;the wait for the \"Walk\" signal is too long',\n",
       "       '\" src=\"images/06 - Speeding.png\"></span>&nbsp;people speed',\n",
       "       '\" src=\"images/10 - Hard to see.png\"></span>&nbsp;it’s hard to see / low visibility',\n",
       "       '\" src=\"images/11 - Sidewalk issue.png\"></span>&nbsp;sidewalks/ramps don\\'t exist or need improvement',\n",
       "       '\" src=\"images/12 - Bike facility issue.png\"></span>&nbsp;the roadway surface needs improvement',\n",
       "       '\" src=\"images/14 - Other issue.png\"></span>&nbsp;of something that is not listed here',\n",
       "       \"bike facilities don't exist or need improvement\",\n",
       "       \"it's too far / too many lanes to cross\",\n",
       "       'it’s hard for people to see each other',\n",
       "       'it’s hard to see / low visibility',\n",
       "       'of something that is not listed here',\n",
       "       'people are not given enough time to cross the street',\n",
       "       'people cross away from the crosswalks',\n",
       "       \"people don't yield while going straight\",\n",
       "       \"people don't yield while turning\",\n",
       "       'people double park their vehicles',\n",
       "       'people have to cross too many lanes / too far',\n",
       "       'people have to wait too long for the \"Walk\" signal',\n",
       "       'people run red lights / stop signs', 'people speed',\n",
       "       \"sidewalks/ramps don't exist or need improvement\",\n",
       "       'the roadway surface needs improvement',\n",
       "       'the roadway surface needs maintenance',\n",
       "       'the wait for the \"Walk\" signal is too long',\n",
       "       'there are no bike facilities or they need maintenance',\n",
       "       'there are no sidewalks or they need maintenance',\n",
       "       \"there's not enough time to cross the street\"], dtype=object)"
      ]
     },
     "execution_count": 4,
     "metadata": {},
     "output_type": "execute_result"
    }
   ],
   "source": [
    "# original version:\n",
    "np.unique(df['REQUESTTYPE'])"
   ]
  },
  {
   "cell_type": "code",
   "execution_count": 5,
   "metadata": {
    "collapsed": false
   },
   "outputs": [
    {
     "name": "stderr",
     "output_type": "stream",
     "text": [
      "C:\\ProgramData\\Anaconda2\\envs\\py34\\lib\\site-packages\\ipykernel\\__main__.py:4: SettingWithCopyWarning: \n",
      "A value is trying to be set on a copy of a slice from a DataFrame\n",
      "\n",
      "See the caveats in the documentation: http://pandas.pydata.org/pandas-docs/stable/indexing.html#indexing-view-versus-copy\n"
     ]
    },
    {
     "name": "stdout",
     "output_type": "stream",
     "text": [
      "bike facilities don't exist or need improvement\n",
      "it's too far / too many lanes to cross\n",
      "it’s hard for people to see each other\n",
      "it’s hard to see / low visibility\n",
      "of something that is not listed here\n",
      "people are not given enough time to cross the street\n",
      "people cross away from the crosswalks\n",
      "people don't yield while going straight\n",
      "people don't yield while turning\n",
      "people double park their vehicles\n",
      "people have to cross too many lanes / too far\n",
      "people have to wait too long for the \"Walk\" signal\n",
      "people run red lights / stop signs\n",
      "people speed\n",
      "sidewalks/ramps don't exist or need improvement\n",
      "the roadway surface needs improvement\n",
      "the roadway surface needs maintenance\n",
      "the wait for the \"Walk\" signal is too long\n",
      "there are no bike facilities or they need maintenance\n",
      "there are no sidewalks or they need maintenance\n",
      "there's not enough time to cross the street\n"
     ]
    }
   ],
   "source": [
    "# clean version:\n",
    "for ind, word in enumerate(df['REQUESTTYPE']):\n",
    "    if 'src=\"images' in word:\n",
    "        df['REQUESTTYPE'][ind] = word[word.index('&nbsp;')+6:]\n",
    "\n",
    "for word in np.unique(df['REQUESTTYPE']):\n",
    "    print(word)"
   ]
  },
  {
   "cell_type": "markdown",
   "metadata": {},
   "source": [
    "### Remove duplicates"
   ]
  },
  {
   "cell_type": "markdown",
   "metadata": {},
   "source": [
    "In removing the duplicates, we'll look at all data and pay attention carefully at `REQUESTTYPE`, `COMMENTS`, and `USERTYPE` columns."
   ]
  },
  {
   "cell_type": "code",
   "execution_count": 6,
   "metadata": {
    "collapsed": false
   },
   "outputs": [
    {
     "data": {
      "text/plain": [
       "(6531, 11)"
      ]
     },
     "execution_count": 6,
     "metadata": {},
     "output_type": "execute_result"
    }
   ],
   "source": [
    "df['is_duplicated'] = df.duplicated(['REQUESTTYPE','COMMENTS','USERTYPE'])\n",
    "df = df.loc[df['is_duplicated'] == False]\n",
    "df = df.drop([\"is_duplicated\"], axis = 1)\n",
    "df.shape"
   ]
  },
  {
   "cell_type": "markdown",
   "metadata": {},
   "source": [
    "### Visualize class distributions"
   ]
  },
  {
   "cell_type": "code",
   "execution_count": 7,
   "metadata": {
    "collapsed": false
   },
   "outputs": [
    {
     "data": {
      "text/plain": [
       "Counter({\"bike facilities don't exist or need improvement\": 699,\n",
       "         \"it's too far / too many lanes to cross\": 86,\n",
       "         'it’s hard for people to see each other': 27,\n",
       "         'it’s hard to see / low visibility': 390,\n",
       "         'of something that is not listed here': 1406,\n",
       "         'people are not given enough time to cross the street': 10,\n",
       "         'people cross away from the crosswalks': 259,\n",
       "         \"people don't yield while going straight\": 261,\n",
       "         \"people don't yield while turning\": 455,\n",
       "         'people double park their vehicles': 430,\n",
       "         'people have to cross too many lanes / too far': 27,\n",
       "         'people have to wait too long for the \"Walk\" signal': 31,\n",
       "         'people run red lights / stop signs': 653,\n",
       "         'people speed': 747,\n",
       "         \"sidewalks/ramps don't exist or need improvement\": 306,\n",
       "         'the roadway surface needs improvement': 218,\n",
       "         'the roadway surface needs maintenance': 35,\n",
       "         'the wait for the \"Walk\" signal is too long': 203,\n",
       "         'there are no bike facilities or they need maintenance': 124,\n",
       "         'there are no sidewalks or they need maintenance': 39,\n",
       "         \"there's not enough time to cross the street\": 125})"
      ]
     },
     "execution_count": 7,
     "metadata": {},
     "output_type": "execute_result"
    }
   ],
   "source": [
    "from collections import Counter\n",
    "\n",
    "cnt = Counter()\n",
    "for word in df['REQUESTTYPE'].as_matrix():\n",
    "    cnt[word] += 1\n",
    "cnt"
   ]
  },
  {
   "cell_type": "code",
   "execution_count": 8,
   "metadata": {
    "collapsed": false
   },
   "outputs": [
    {
     "data": {
      "image/png": "[encoded data removed]",
      "text/plain": [
       "<matplotlib.figure.Figure at 0x8762da0>"
      ]
     },
     "metadata": {},
     "output_type": "display_data"
    }
   ],
   "source": [
    "labels, values = zip(*Counter(df['REQUESTTYPE']).items())\n",
    "\n",
    "inds = np.argsort(values)\n",
    "sorted_values = []\n",
    "sorted_labels = []\n",
    "for i in inds:\n",
    "    sorted_values.append(values[i])\n",
    "    sorted_labels.append(labels[i])\n",
    "\n",
    "labels = tuple(sorted_labels)\n",
    "values = tuple(sorted_values)\n",
    "indexes = np.arange(len(labels))\n",
    "width = 1\n",
    "\n",
    "plt.barh(indexes, values, width, color = \"orange\", edgecolor='white')\n",
    "plt.yticks(indexes + width -1, labels)\n",
    "plt.show()"
   ]
  },
  {
   "cell_type": "code",
   "execution_count": 9,
   "metadata": {
    "collapsed": false
   },
   "outputs": [
    {
     "name": "stderr",
     "output_type": "stream",
     "text": [
      "C:\\ProgramData\\Anaconda2\\envs\\py34\\lib\\site-packages\\ipykernel\\__main__.py:27: SettingWithCopyWarning: \n",
      "A value is trying to be set on a copy of a slice from a DataFrame\n",
      "\n",
      "See the caveats in the documentation: http://pandas.pydata.org/pandas-docs/stable/indexing.html#indexing-view-versus-copy\n",
      "C:\\ProgramData\\Anaconda2\\envs\\py34\\lib\\site-packages\\ipykernel\\__main__.py:28: SettingWithCopyWarning: \n",
      "A value is trying to be set on a copy of a slice from a DataFrame\n",
      "\n",
      "See the caveats in the documentation: http://pandas.pydata.org/pandas-docs/stable/indexing.html#indexing-view-versus-copy\n"
     ]
    },
    {
     "data": {
      "image/png": "[encoded data removed]",
      "text/plain": [
       "<matplotlib.figure.Figure at 0x9fba470>"
      ]
     },
     "metadata": {},
     "output_type": "display_data"
    }
   ],
   "source": [
    "# clean version:\n",
    "\n",
    "plt.rcParams[\"figure.dpi\"] = 100\n",
    "pylab.rcParams['figure.figsize'] = 8, 3\n",
    "\n",
    "type_to_key = [0, 1, 2, 2, 3, 1, 4, 5, 5, 6, 1, 7, 5, 8, 9, 10, 10, 7, 0, 9, 1]\n",
    "complaints_map = {\n",
    "                0 : 'bike facilities dont exist or need improvement',\n",
    "                1 : 'too far or too many lanes to cross or not enough time',\n",
    "                2 : 'low visibility',\n",
    "                3 : 'other',\n",
    "                4 : 'J-walking',\n",
    "                5 : 'failure to yield',\n",
    "                6 : 'double parking',\n",
    "                7 : 'wait for walk signal',\n",
    "                8 : 'speeding',\n",
    "                9 : 'ramps or sidewalks',\n",
    "                10 : 'roadway improvement'\n",
    "                }\n",
    "\n",
    "df['code'] = df['REQUESTTYPE']\n",
    "df['y_true'] = df['REQUESTTYPE']\n",
    "df = df[~df['COMMENTS'].isnull()]\n",
    "\n",
    "\n",
    "for i, line in enumerate(np.unique(df['REQUESTTYPE'])):\n",
    "    df['code'][df['REQUESTTYPE'] == line] = complaints_map[type_to_key[i]]\n",
    "    df['y_true'][df['REQUESTTYPE'] == line] = type_to_key[i]\n",
    "\n",
    "\n",
    "y = df['code']\n",
    "X = df['COMMENTS']\n",
    "y_true = list(df['y_true'])\n",
    "\n",
    "\n",
    "labels, values = zip(*Counter(y).items())\n",
    "inds = np.argsort(values)\n",
    "sorted_values = []\n",
    "sorted_labels = []\n",
    "\n",
    "for i in inds:\n",
    "    sorted_values.append(values[i])\n",
    "    sorted_labels.append(labels[i])\n",
    "\n",
    "labels = tuple(sorted_labels)\n",
    "values = tuple(sorted_values)\n",
    "indexes = np.arange(len(labels))\n",
    "width = 1\n",
    "\n",
    "plt.barh(indexes, values, width, color = \"orange\", edgecolor='white')\n",
    "plt.yticks(indexes + width -1, labels)\n",
    "plt.show()"
   ]
  },
  {
   "cell_type": "markdown",
   "metadata": {},
   "source": [
    "Note: We just grouped by the same meaning from 21 categories down to 11."
   ]
  },
  {
   "cell_type": "markdown",
   "metadata": {},
   "source": [
    "### Split to training and test dataset"
   ]
  },
  {
   "cell_type": "code",
   "execution_count": 10,
   "metadata": {
    "collapsed": false,
    "scrolled": true
   },
   "outputs": [],
   "source": [
    "from sklearn.model_selection import train_test_split\n",
    "X_train, X_test, y_train, y_test = train_test_split(X, y)"
   ]
  },
  {
   "cell_type": "markdown",
   "metadata": {},
   "source": [
    "# Task2 - Model 1 [10 points]"
   ]
  },
  {
   "cell_type": "markdown",
   "metadata": {},
   "source": [
    "Run a baseline multi-class classification model using a bag-of-word approach, report macro f1-score (should be above .5) and visualize the confusion matrix. Can you interpret the mistakes made by the model? "
   ]
  },
  {
   "cell_type": "code",
   "execution_count": 11,
   "metadata": {
    "collapsed": true
   },
   "outputs": [],
   "source": [
    "# Scikit import\n",
    "from sklearn.model_selection import train_test_split, cross_val_score\n",
    "from sklearn.pipeline import make_pipeline\n",
    "from sklearn.preprocessing import scale, StandardScaler\n",
    "from sklearn.feature_extraction.text import CountVectorizer, ENGLISH_STOP_WORDS\n",
    "from sklearn.metrics import f1_score\n",
    "import re"
   ]
  },
  {
   "cell_type": "code",
   "execution_count": 12,
   "metadata": {
    "collapsed": false
   },
   "outputs": [
    {
     "name": "stdout",
     "output_type": "stream",
     "text": [
      "['are', 'away', 'bike', 'cross', 'crosswalks', 'don', 'double', 'each', 'enough', 'exist', 'facilities', 'far', 'for', 'from', 'given', 'going', 'hard', 'have', 'here', 'improvement', 'is', 'it', 'lanes', 'lights', 'listed', 'long', 'low', 'maintenance', 'many', 'need', 'needs', 'no', 'not', 'of', 'or', 'other', 'park', 'people', 'ramps', 'red', 'roadway', 'run', 'see', 'sidewalks', 'signal', 'signs', 'something', 'speed', 'stop', 'straight', 'street', 'surface', 'that', 'the', 'their', 'there', 'they', 'time', 'to', 'too', 'turning', 'vehicles', 'visibility', 'wait', 'walk', 'while', 'yield']\n"
     ]
    }
   ],
   "source": [
    "vect = CountVectorizer(token_pattern = r\"\\b\\w\\w+\\b\")\n",
    "vect.fit(df['REQUESTTYPE'])\n",
    "blacklist = vect.get_feature_names()\n",
    "print(blacklist)"
   ]
  },
  {
   "cell_type": "code",
   "execution_count": 13,
   "metadata": {
    "collapsed": false
   },
   "outputs": [
    {
     "name": "stdout",
     "output_type": "stream",
     "text": [
      "Vocabulary size: 67\n",
      "Vocabulary content:\n",
      " {'yield': 66, 'park': 36, 'vehicles': 61, 'crosswalks': 4, 'for': 12, 'there': 55, 'people': 37, 'that': 52, 'see': 42, 'far': 11, 'needs': 30, 'away': 1, 'listed': 24, 'wait': 63, 'red': 39, 'or': 34, 'each': 7, 'something': 46, 'walk': 64, 'double': 6, 'long': 25, 'lanes': 22, 'roadway': 40, 'going': 15, 'here': 18, 'low': 26, 'lights': 23, 'while': 65, 'no': 31, 'street': 50, 'time': 57, 'have': 17, 'bike': 2, 'is': 20, 'too': 59, 'cross': 3, 'surface': 51, 'speed': 47, 'turning': 60, 'enough': 8, 'to': 58, 'the': 53, 'stop': 48, 'they': 56, 'signal': 44, 'from': 13, 'their': 54, 'improvement': 19, 'exist': 9, 'sidewalks': 43, 'hard': 16, 'don': 5, 'are': 0, 'ramps': 38, 'straight': 49, 'visibility': 62, 'not': 32, 'maintenance': 27, 'need': 29, 'given': 14, 'run': 41, 'signs': 45, 'facilities': 10, 'of': 33, 'it': 21, 'many': 28, 'other': 35}\n"
     ]
    }
   ],
   "source": [
    "print(\"Vocabulary size: {}\".format(len(vect.vocabulary_)))\n",
    "print(\"Vocabulary content:\\n {}\".format(vect.vocabulary_))"
   ]
  },
  {
   "cell_type": "code",
   "execution_count": 14,
   "metadata": {
    "collapsed": false
   },
   "outputs": [
    {
     "name": "stdout",
     "output_type": "stream",
     "text": [
      "Number of features: 67\n",
      "All features:\n",
      "['are', 'away', 'bike', 'cross', 'crosswalks', 'don', 'double', 'each', 'enough', 'exist', 'facilities', 'far', 'for', 'from', 'given', 'going', 'hard', 'have', 'here', 'improvement', 'is', 'it', 'lanes', 'lights', 'listed', 'long', 'low', 'maintenance', 'many', 'need', 'needs', 'no', 'not', 'of', 'or', 'other', 'park', 'people', 'ramps', 'red', 'roadway', 'run', 'see', 'sidewalks', 'signal', 'signs', 'something', 'speed', 'stop', 'straight', 'street', 'surface', 'that', 'the', 'their', 'there', 'they', 'time', 'to', 'too', 'turning', 'vehicles', 'visibility', 'wait', 'walk', 'while', 'yield']\n"
     ]
    }
   ],
   "source": [
    "feature_names = vect.get_feature_names()\n",
    "print(\"Number of features: {}\".format(len(feature_names)))\n",
    "print(\"All features:\\n{}\".format(feature_names[:]))"
   ]
  },
  {
   "cell_type": "code",
   "execution_count": 15,
   "metadata": {
    "collapsed": true
   },
   "outputs": [],
   "source": [
    "from sklearn.linear_model import LogisticRegression, LogisticRegressionCV\n",
    "from sklearn.svm import SVC, LinearSVC\n",
    "from sklearn.naive_bayes import GaussianNB, MultinomialNB, BernoulliNB\n",
    "\n",
    "\"\"\"\n",
    "Best classifiers as per the internet for text classification\n",
    "\n",
    "BernoulliNB\n",
    "GaussianNB\n",
    "MultinomialNB\n",
    "\n",
    "LinearSVC\n",
    "PolynomialSVC\n",
    "RbfSVC\n",
    "NuSVC \n",
    "\n",
    "TfidfTransformer used in pipeline\n",
    "\"\"\"\n",
    "def standard_approach(X, y, \n",
    "                      vectorizer = CountVectorizer(token_pattern = r\"\\b\\w\\w+\\b\"),\n",
    "                      classifier = LogisticRegression(),\n",
    "                      scaling = None):\n",
    "    \"\"\"\n",
    "    \n",
    "    \"\"\"\n",
    "    if scaling is not None:\n",
    "        pipe = make_pipeline(vectorizer, scaling, classifier)\n",
    "    else:\n",
    "        pipe = make_pipeline(vectorizer, classifier)\n",
    "        \n",
    "    scores = cross_val_score(pipe, X, y, cv=5, scoring = 'f1_macro')\n",
    "    pipe.fit(X_train, y_train)\n",
    "    y_pred = pipe.predict(X_test)\n",
    "    test = np.mean(y_pred == y_test)\n",
    "    \n",
    "    return scores, np.mean(scores), test"
   ]
  },
  {
   "cell_type": "code",
   "execution_count": 16,
   "metadata": {
    "collapsed": false
   },
   "outputs": [
    {
     "data": {
      "text/plain": [
       "\"\\nprint('First 5 lines of X_train:\\n\\n',X_train[:5],'\\n')\\nprint('List of unique words on y_train:\\n\\n',np.unique(y_train))\\n\\nOUTPUT:\\n\\nFirst 5 lines of X_train:\\n\\n 7909    Whats this! the parking lot gets a fine blue l...\\n6692    No sidewalk cleaning underneath elevated Summe...\\n213     The N. Wash. Bridge desperately needs bike lan...\\n5758    Drivers do not yield to people in the crosswal...\\n6048    Drivers on Frontage Rd northbound run this red...\\nName: COMMENTS, dtype: object \\n\\nList of unique words on y_train:\\n\\n ['J-walking' 'bike facilities dont exist or need improvement'\\n 'double parking' 'failure to yield' 'low visibility' 'other'\\n 'ramps or sidewalks' 'roadway improvement' 'speeding'\\n 'too far or too many lanes to cross or not enough time'\\n 'wait for walk signal']\\n\""
      ]
     },
     "execution_count": 16,
     "metadata": {},
     "output_type": "execute_result"
    }
   ],
   "source": [
    "'''\n",
    "print('First 5 lines of X_train:\\n\\n',X_train[:5],'\\n')\n",
    "print('List of unique words on y_train:\\n\\n',np.unique(y_train))\n",
    "\n",
    "OUTPUT:\n",
    "\n",
    "First 5 lines of X_train:\n",
    "\n",
    " 7909    Whats this! the parking lot gets a fine blue l...\n",
    "6692    No sidewalk cleaning underneath elevated Summe...\n",
    "213     The N. Wash. Bridge desperately needs bike lan...\n",
    "5758    Drivers do not yield to people in the crosswal...\n",
    "6048    Drivers on Frontage Rd northbound run this red...\n",
    "Name: COMMENTS, dtype: object \n",
    "\n",
    "List of unique words on y_train:\n",
    "\n",
    " ['J-walking' 'bike facilities dont exist or need improvement'\n",
    " 'double parking' 'failure to yield' 'low visibility' 'other'\n",
    " 'ramps or sidewalks' 'roadway improvement' 'speeding'\n",
    " 'too far or too many lanes to cross or not enough time'\n",
    " 'wait for walk signal']\n",
    "'''"
   ]
  },
  {
   "cell_type": "code",
   "execution_count": 17,
   "metadata": {
    "collapsed": false
   },
   "outputs": [
    {
     "data": {
      "text/plain": [
       "'\\nnames = [\\'BernouliNB\\', \\'MultinomialNB\\', \\'LogisticRegression\\', \\'LinearSVC\\', \\'LogisticRegressionCV\\']\\nclassifiers = [BernoulliNB(), MultinomialNB(), LogisticRegression(), LinearSVC(), LogisticRegressionCV()]\\n\\nprint(\\'Using f-1 macro score:\\n\\')\\nfor i in range(len(names)):\\n    scores, m, t = standard_approach(X_train, y_train, classifier = classifiers[i])\\n    print(\"Mean cross val score of %s with Standard Approach:\" %names[i], m)\\n    print(\"Mean test score of %s with Standard Approach:\" %names[i], t,\\'\\n\\')\\n    \\n    \\nOUTPUT:\\nMean cross val score of BernouliNB with Standard Approach: 0.251424656766\\nMean test score of BernouliNB with Standard Approach: 0.46044499382 \\n\\nMean cross val score of MultinomialNB with Standard Approach: 0.417234384088\\nMean test score of MultinomialNB with Standard Approach: 0.537082818294 \\n\\nMean cross val score of LogisticRegression with Standard Approach: 0.576179127919\\nMean test score of LogisticRegression with Standard Approach: 0.593325092707 \\n\\nMean cross val score of LinearSVC with Standard Approach: 0.527541179812\\nMean test score of LinearSVC with Standard Approach: 0.54326328801 \\n\\nMean cross val score of LogisticRegressionCV with Standard Approach: 0.56670445302\\nMean test score of LogisticRegressionCV with Standard Approach: 0.595179233622 \\n'"
      ]
     },
     "execution_count": 17,
     "metadata": {},
     "output_type": "execute_result"
    }
   ],
   "source": [
    "\n",
    "'''\n",
    "names = ['BernouliNB', 'MultinomialNB', 'LogisticRegression', 'LinearSVC', 'LogisticRegressionCV']\n",
    "classifiers = [BernoulliNB(), MultinomialNB(), LogisticRegression(), LinearSVC(), LogisticRegressionCV()]\n",
    "\n",
    "print('Using f-1 macro score:\\n')\n",
    "for i in range(len(names)):\n",
    "    scores, m, t = standard_approach(X_train, y_train, classifier = classifiers[i])\n",
    "    print(\"Mean cross val score of %s with Standard Approach:\" %names[i], m)\n",
    "    print(\"Mean test score of %s with Standard Approach:\" %names[i], t,'\\n')\n",
    "    \n",
    "    \n",
    "OUTPUT:\n",
    "Mean cross val score of BernouliNB with Standard Approach: 0.251424656766\n",
    "Mean test score of BernouliNB with Standard Approach: 0.46044499382 \n",
    "\n",
    "Mean cross val score of MultinomialNB with Standard Approach: 0.417234384088\n",
    "Mean test score of MultinomialNB with Standard Approach: 0.537082818294 \n",
    "\n",
    "Mean cross val score of LogisticRegression with Standard Approach: 0.576179127919\n",
    "Mean test score of LogisticRegression with Standard Approach: 0.593325092707 \n",
    "\n",
    "Mean cross val score of LinearSVC with Standard Approach: 0.527541179812\n",
    "Mean test score of LinearSVC with Standard Approach: 0.54326328801 \n",
    "\n",
    "Mean cross val score of LogisticRegressionCV with Standard Approach: 0.56670445302\n",
    "Mean test score of LogisticRegressionCV with Standard Approach: 0.595179233622 \n",
    "'''\n"
   ]
  },
  {
   "cell_type": "markdown",
   "metadata": {},
   "source": [
    "Based on our baseline models above, our highest performing model is **Logistic Regression** with a cross-val mean score of 0.58 and a test score of 0.61 using Standard Approach."
   ]
  },
  {
   "cell_type": "markdown",
   "metadata": {},
   "source": [
    "#### F-1, Precision, and Recall Scores"
   ]
  },
  {
   "cell_type": "code",
   "execution_count": 18,
   "metadata": {
    "collapsed": false
   },
   "outputs": [
    {
     "name": "stdout",
     "output_type": "stream",
     "text": [
      "Test set predictions:\n",
      " ['speeding' 'failure to yield'\n",
      " 'bike facilities dont exist or need improvement' ..., 'failure to yield'\n",
      " 'low visibility' 'failure to yield']\n",
      "\n",
      "Test set score: 0.59\n",
      "                                                       precision    recall  f1-score   support\n",
      "\n",
      "                                            J-walking       0.60      0.40      0.48        60\n",
      "       bike facilities dont exist or need improvement       0.69      0.75      0.72       210\n",
      "                                       double parking       0.79      0.70      0.74       102\n",
      "                                     failure to yield       0.62      0.70      0.66       361\n",
      "                                       low visibility       0.54      0.51      0.53        90\n",
      "                                                other       0.47      0.53      0.50       347\n",
      "                                   ramps or sidewalks       0.66      0.52      0.58        90\n",
      "                                  roadway improvement       0.79      0.58      0.67        57\n",
      "                                             speeding       0.66      0.63      0.64       183\n",
      "too far or too many lanes to cross or not enough time       0.49      0.29      0.37        58\n",
      "                                 wait for walk signal       0.69      0.60      0.64        60\n",
      "\n",
      "                                          avg / total       0.61      0.61      0.61      1618\n",
      "\n"
     ]
    }
   ],
   "source": [
    "from sklearn.metrics import classification_report\n",
    "\n",
    "pipe = make_pipeline(CountVectorizer(token_pattern = r\"\\b\\w\\w+\\b\"),\n",
    "                     LogisticRegression())\n",
    "\n",
    "pipe.fit(X_train, y_train)\n",
    "y_pred = pipe.predict(X_test)\n",
    "score_model1 = f1_score(y_pred, y_test, average='macro')\n",
    "print(\"Test set predictions:\\n {}\\n\".format(y_pred))\n",
    "print(\"Test set score: {:.2f}\".format(score_model1))\n",
    "print(classification_report(y_test, y_pred))\n",
    "\n",
    "complaints_map_reindexed = {\n",
    "                0 : 'J-walking',\n",
    "                1 : 'bike facilities dont exist or need improvement',\n",
    "                2 : 'double parking',\n",
    "                3 : 'failure to yield',\n",
    "                4 : 'low visibility',\n",
    "                5 : 'other',\n",
    "                6 : 'ramps or sidewalks',\n",
    "                7 : 'roadway improvement',\n",
    "                8 : 'speeding',\n",
    "                9 : 'too far or too many lanes to cross or not enough time',\n",
    "                10 : 'wait for walk signal'\n",
    "                }"
   ]
  },
  {
   "cell_type": "markdown",
   "metadata": {},
   "source": [
    "### Assert model1 scores above 0.54 f1 macro"
   ]
  },
  {
   "cell_type": "code",
   "execution_count": 19,
   "metadata": {
    "collapsed": true
   },
   "outputs": [],
   "source": [
    "assert(score_model1 > 0.54)"
   ]
  },
  {
   "cell_type": "markdown",
   "metadata": {},
   "source": [
    "#### Confusion Matrix"
   ]
  },
  {
   "cell_type": "code",
   "execution_count": 20,
   "metadata": {
    "collapsed": false,
    "scrolled": false
   },
   "outputs": [
    {
     "data": {
      "image/png": "[encoded data removed]",
      "text/plain": [
       "<matplotlib.figure.Figure at 0xaecccc0>"
      ]
     },
     "metadata": {},
     "output_type": "display_data"
    },
    {
     "name": "stdout",
     "output_type": "stream",
     "text": [
      "Complaints Index Map:\n",
      "0 : J-walking\n",
      "1 : bike facilities dont exist or need improvement\n",
      "2 : double parking\n",
      "3 : failure to yield\n",
      "4 : low visibility\n",
      "5 : other\n",
      "6 : ramps or sidewalks\n",
      "7 : roadway improvement\n",
      "8 : speeding\n",
      "9 : too far or too many lanes to cross or not enough time\n",
      "10 : wait for walk signal\n"
     ]
    }
   ],
   "source": [
    "from sklearn.metrics import confusion_matrix\n",
    "\n",
    "conf_arr = confusion_matrix(y_test, y_pred)\n",
    "\n",
    "plt.rcParams[\"figure.dpi\"] = 100\n",
    "pylab.rcParams['figure.figsize'] = 8, 8\n",
    "\n",
    "norm_conf = []\n",
    "\n",
    "def xrange(x):\n",
    "    return iter(range(x))\n",
    "\n",
    "for i in conf_arr:\n",
    "    a = 0\n",
    "    tmp_arr = []\n",
    "    a = sum(i, 0)\n",
    "    for j in i:\n",
    "        tmp_arr.append(float(j)/float(a))\n",
    "    norm_conf.append(tmp_arr)\n",
    "\n",
    "fig = plt.figure()\n",
    "plt.clf()\n",
    "ax = fig.add_subplot(111)\n",
    "ax.set_aspect(1)\n",
    "res = ax.imshow(np.array(norm_conf), cmap=\"YlOrRd\", interpolation='nearest')\n",
    "\n",
    "width, height = conf_arr.shape\n",
    "for x in xrange(width):\n",
    "    for y in xrange(height):\n",
    "        ax.annotate(str(conf_arr[x][y]), xy=(y, x), \n",
    "                    horizontalalignment='center',\n",
    "                    verticalalignment='center')\n",
    "\n",
    "cb = fig.colorbar(res)\n",
    "plt.xticks(range(width),)\n",
    "plt.yticks(range(height),)\n",
    "plt.show()\n",
    "print('Complaints Index Map:')\n",
    "for i in complaints_map_reindexed:\n",
    "    print(i,\":\",complaints_map_reindexed[i])"
   ]
  },
  {
   "cell_type": "markdown",
   "metadata": {},
   "source": [
    "We see some mistakes that can be found using the confusion matrix. For example, there are 14 digit 0's (J-walking) that are misclassified as 5 (other). There are 45 digit 3's (failure to yield) also misclassified as digit 5.  Digit 5 'Other' are also found to be misclassified, 17 of which are misclassified for 'ramps or sidewalks', 3 for 'roadway improvement', and 1 for 'wait for walk signal'. Some other tendency for mistakes can also be found in digit 9 (too far or too many lanes to cross or not enough time), where 13 of them are misclassified as class 3 (bike facilities dont exist or need improvement) and 6 of them as class 10 (wait for walk signal)."
   ]
  },
  {
   "cell_type": "markdown",
   "metadata": {},
   "source": [
    "# Task3 - Model 2 [30 points]"
   ]
  },
  {
   "cell_type": "markdown",
   "metadata": {},
   "source": [
    "Improve the model using more complex text features, including n-grams, character n-grams and possibly domain-specific features."
   ]
  },
  {
   "cell_type": "markdown",
   "metadata": {},
   "source": [
    "### N-Grams Count Vectorizer"
   ]
  },
  {
   "cell_type": "code",
   "execution_count": 21,
   "metadata": {
    "collapsed": false,
    "scrolled": true
   },
   "outputs": [
    {
     "data": {
      "text/plain": [
       "'\\nvectorizer = CountVectorizer(token_pattern = r\"\\x08\\\\w\\\\w+\\x08\", ngram_range=(1, 1)).fit(X_train)\\nprint(\"Vocabulary size: {}\".format(len(vectorizer.vocabulary_)))\\n\\npipe = make_pipeline(vectorizer, LogisticRegression())\\nscores = cross_val_score(pipe, X_train, y_train, cv=5, scoring = \\'f1_macro\\')\\nprint(\\'Training set CV scores:\\',str(scores),\\'with mean of\\', str(np.mean(scores)))\\n\\npipe.fit(X_train, y_train)\\ny_pred = pipe.predict(X_test)\\nprint(\"Test set score: {:.2f}\".format(f1_score(y_pred, y_test, average=\\'macro\\')))\\n\\nOUTPUT:\\nVocabulary size: 5781\\nTraining set CV scores: [ 0.598  0.569  0.581  0.574  0.56 ] with mean of 0.576179127919\\nTest set score: 0.58\\n\\n'"
      ]
     },
     "execution_count": 21,
     "metadata": {},
     "output_type": "execute_result"
    }
   ],
   "source": [
    "# 1-gram\n",
    "'''\n",
    "vectorizer = CountVectorizer(token_pattern = r\"\\b\\w\\w+\\b\", ngram_range=(1, 1)).fit(X_train)\n",
    "print(\"Vocabulary size: {}\".format(len(vectorizer.vocabulary_)))\n",
    "\n",
    "pipe = make_pipeline(vectorizer, LogisticRegression())\n",
    "scores = cross_val_score(pipe, X_train, y_train, cv=5, scoring = 'f1_macro')\n",
    "print('Training set CV scores:',str(scores),'with mean of', str(np.mean(scores)))\n",
    "\n",
    "pipe.fit(X_train, y_train)\n",
    "y_pred = pipe.predict(X_test)\n",
    "print(\"Test set score: {:.2f}\".format(f1_score(y_pred, y_test, average='macro')))\n",
    "\n",
    "OUTPUT:\n",
    "Vocabulary size: 5781\n",
    "Training set CV scores: [ 0.598  0.569  0.581  0.574  0.56 ] with mean of 0.576179127919\n",
    "Test set score: 0.58\n",
    "\n",
    "'''"
   ]
  },
  {
   "cell_type": "markdown",
   "metadata": {},
   "source": [
    "As we can see, using a unigram does not improve our model because the default in vectorizer is using n=1."
   ]
  },
  {
   "cell_type": "code",
   "execution_count": 22,
   "metadata": {
    "collapsed": false,
    "scrolled": true
   },
   "outputs": [
    {
     "data": {
      "text/plain": [
       "'\\nvectorizer = CountVectorizer(token_pattern = r\"\\x08\\\\w\\\\w+\\x08\", ngram_range=(2, 2)).fit(X_train)\\nprint(\"Vocabulary size: {}\".format(len(vectorizer.vocabulary_)))\\n\\npipe = make_pipeline(vectorizer, LogisticRegression())\\nscores = cross_val_score(pipe, X_train, y_train, cv=5, scoring = \\'f1_macro\\')\\nprint(\\'Training set CV scores:\\',str(scores),\\'with mean of\\', str(np.mean(scores)))\\n\\npipe.fit(X_train, y_train)\\ny_pred = pipe.predict(X_test)\\nprint(\"Test set score: {:.2f}\".format(f1_score(y_pred, y_test, average=\\'macro\\')))\\n\\nOUTPUT:\\nVocabulary size: 43871\\nTraining set CV scores: [ 0.539  0.509  0.554  0.501  0.506] with mean of 0.521742924734\\nTest set score: 0.54\\n'"
      ]
     },
     "execution_count": 22,
     "metadata": {},
     "output_type": "execute_result"
    }
   ],
   "source": [
    "# 2-gram\n",
    "'''\n",
    "vectorizer = CountVectorizer(token_pattern = r\"\\b\\w\\w+\\b\", ngram_range=(2, 2)).fit(X_train)\n",
    "print(\"Vocabulary size: {}\".format(len(vectorizer.vocabulary_)))\n",
    "\n",
    "pipe = make_pipeline(vectorizer, LogisticRegression())\n",
    "scores = cross_val_score(pipe, X_train, y_train, cv=5, scoring = 'f1_macro')\n",
    "print('Training set CV scores:',str(scores),'with mean of', str(np.mean(scores)))\n",
    "\n",
    "pipe.fit(X_train, y_train)\n",
    "y_pred = pipe.predict(X_test)\n",
    "print(\"Test set score: {:.2f}\".format(f1_score(y_pred, y_test, average='macro')))\n",
    "\n",
    "OUTPUT:\n",
    "Vocabulary size: 43871\n",
    "Training set CV scores: [ 0.539  0.509  0.554  0.501  0.506] with mean of 0.521742924734\n",
    "Test set score: 0.54\n",
    "'''"
   ]
  },
  {
   "cell_type": "code",
   "execution_count": 23,
   "metadata": {
    "collapsed": false,
    "scrolled": true
   },
   "outputs": [
    {
     "data": {
      "text/plain": [
       "'\\nvectorizer = CountVectorizer(token_pattern = r\"\\x08\\\\w\\\\w+\\x08\", stop_words=\"english\", ngram_range=(3, 3)).fit(X_train)\\nprint(\"Vocabulary size: {}\".format(len(vectorizer.vocabulary_)))\\n\\npipe = make_pipeline(vectorizer, LogisticRegression())\\nscores = cross_val_score(pipe, X_train, y_train, cv=5, scoring = \\'f1_macro\\')\\nprint(\\'Training set CV scores:\\',str(scores),\\'with mean of\\', str(np.mean(scores)))\\n\\npipe.fit(X_train, y_train)\\ny_pred = pipe.predict(X_test)\\nprint(\"Test set score: {:.2f}\".format(f1_score(y_pred, y_test, average=\\'macro\\')))\\n\\nOUTPUT:\\n    \\nVocabulary size: 49048\\nTraining set CV scores: [ 0.223  0.219  0.208  0.22   0.229] with mean of 0.219891337471\\nTest set score: 0.22\\n    \\n'"
      ]
     },
     "execution_count": 23,
     "metadata": {},
     "output_type": "execute_result"
    }
   ],
   "source": [
    "# 3-gram\n",
    "'''\n",
    "vectorizer = CountVectorizer(token_pattern = r\"\\b\\w\\w+\\b\", stop_words=\"english\", ngram_range=(3, 3)).fit(X_train)\n",
    "print(\"Vocabulary size: {}\".format(len(vectorizer.vocabulary_)))\n",
    "\n",
    "pipe = make_pipeline(vectorizer, LogisticRegression())\n",
    "scores = cross_val_score(pipe, X_train, y_train, cv=5, scoring = 'f1_macro')\n",
    "print('Training set CV scores:',str(scores),'with mean of', str(np.mean(scores)))\n",
    "\n",
    "pipe.fit(X_train, y_train)\n",
    "y_pred = pipe.predict(X_test)\n",
    "print(\"Test set score: {:.2f}\".format(f1_score(y_pred, y_test, average='macro')))\n",
    "\n",
    "OUTPUT:\n",
    "    \n",
    "Vocabulary size: 49048\n",
    "Training set CV scores: [ 0.223  0.219  0.208  0.22   0.229] with mean of 0.219891337471\n",
    "Test set score: 0.22\n",
    "    \n",
    "'''"
   ]
  },
  {
   "cell_type": "markdown",
   "metadata": {},
   "source": [
    "The higher n value for n-grams we use the worse our scores would be. This makes sense because single words are usually significant enough and easier to match the count than two or three words in a document. We'll now use a pipeline to run a combination of unigrams, bigrams, and trigrams:"
   ]
  },
  {
   "cell_type": "code",
   "execution_count": 24,
   "metadata": {
    "collapsed": false
   },
   "outputs": [
    {
     "data": {
      "text/plain": [
       "'\\nvectorizer = CountVectorizer(token_pattern = r\"\\x08\\\\w\\\\w+\\x08\", stop_words=\"english\", ngram_range=(1, 3)).fit(X_train)\\nprint(\"Vocabulary size: {}\".format(len(vectorizer.vocabulary_)))\\n\\npipe = make_pipeline(vectorizer, LogisticRegression())\\nscores = cross_val_score(pipe, X_train, y_train, cv=5, scoring = \\'f1_macro\\')\\nprint(\\'Training set CV scores:\\',str(scores),\\'with mean of\\', str(np.mean(scores)))\\n\\npipe.fit(X_train, y_train)\\ny_pred = pipe.predict(X_test)\\nprint(\"Test set score: {:.2f}\".format(f1_score(y_pred, y_test, average=\\'macro\\')))\\n\\nOUTPUT:\\nVocabulary size: 90231\\nTraining set CV scores: [ 0.594  0.568  0.594  0.591  0.557] with mean of 0.580670876266\\nTest set score: 0.60\\n'"
      ]
     },
     "execution_count": 24,
     "metadata": {},
     "output_type": "execute_result"
    }
   ],
   "source": [
    "# using unigrams, bigrams, and trigrams\n",
    "'''\n",
    "vectorizer = CountVectorizer(token_pattern = r\"\\b\\w\\w+\\b\", stop_words=\"english\", ngram_range=(1, 3)).fit(X_train)\n",
    "print(\"Vocabulary size: {}\".format(len(vectorizer.vocabulary_)))\n",
    "\n",
    "pipe = make_pipeline(vectorizer, LogisticRegression())\n",
    "scores = cross_val_score(pipe, X_train, y_train, cv=5, scoring = 'f1_macro')\n",
    "print('Training set CV scores:',str(scores),'with mean of', str(np.mean(scores)))\n",
    "\n",
    "pipe.fit(X_train, y_train)\n",
    "y_pred = pipe.predict(X_test)\n",
    "print(\"Test set score: {:.2f}\".format(f1_score(y_pred, y_test, average='macro')))\n",
    "\n",
    "OUTPUT:\n",
    "Vocabulary size: 90231\n",
    "Training set CV scores: [ 0.594  0.568  0.594  0.591  0.557] with mean of 0.580670876266\n",
    "Test set score: 0.60\n",
    "'''"
   ]
  },
  {
   "cell_type": "markdown",
   "metadata": {},
   "source": [
    "Using combination of n=1,2,&3 gives us the highest f-1 score. However, we realized that running the grid search took a longer time because of the relatively large grid and the inclusion of trigrams."
   ]
  },
  {
   "cell_type": "markdown",
   "metadata": {},
   "source": [
    "To improve our model further, we will now use grid search as follows to find best parameters, and also using LogReg for dealing with sparsity."
   ]
  },
  {
   "cell_type": "markdown",
   "metadata": {},
   "source": [
    "### Tfidf Transformation\n",
    "\n",
    "We apply the frequency–inverse document frequency (tf–idf) transformation to\n",
    "rescale features by how informative we expect them to be. This method will allow us to give high weight to any term that appears\n",
    "often in a particular document, but not in many documents in the corpus. If a word\n",
    "appears often in a particular document, but not in very many documents, it is likely\n",
    "to be very descriptive of the content of that document. \n",
    "\n",
    "* tf := Term Frequency\n",
    "* df(d, t) := Number of documents containing term t\n",
    "* $n_d$ := total number of documents\n",
    "\n",
    "$$tfidf(t, d) = tf(t, d) * idf(t)$$\n",
    "$$idf(t) = log \\frac{1 + n_d}{1 + df(d, t)} + 1$$"
   ]
  },
  {
   "cell_type": "markdown",
   "metadata": {},
   "source": [
    "\n",
    "By using `TfidfTransformer`, we take in the sparse matrix\n",
    "output produced by `CountVectorizer` and transforms it. We will use `TfidfVectorizer`,\n",
    "which takes in the text data and does both the bag-of-words feature extraction and\n",
    "the tf–idf transformation."
   ]
  },
  {
   "cell_type": "code",
   "execution_count": 25,
   "metadata": {
    "collapsed": false
   },
   "outputs": [
    {
     "data": {
      "text/plain": [
       "'\\nstandard_approach(X_train, y_train, scaling=TfidfTransformer())\\n\\nOUTPUT:\\n(array([ 0.54 ,  0.529,  0.532,  0.555,  0.523]),\\n 0.53603773157610457,\\n 0.59394313967861556)\\n'"
      ]
     },
     "execution_count": 25,
     "metadata": {},
     "output_type": "execute_result"
    }
   ],
   "source": [
    "from sklearn.feature_extraction.text import TfidfVectorizer, TfidfTransformer\n",
    "import mglearn\n",
    "'''\n",
    "standard_approach(X_train, y_train, scaling=TfidfTransformer())\n",
    "\n",
    "OUTPUT:\n",
    "(array([ 0.54 ,  0.529,  0.532,  0.555,  0.523]),\n",
    " 0.53603773157610457,\n",
    " 0.59394313967861556)\n",
    "'''"
   ]
  },
  {
   "cell_type": "markdown",
   "metadata": {},
   "source": [
    "We will tune the regularizatoin parameter C of LogisticRegression via cross-validation to improve our score."
   ]
  },
  {
   "cell_type": "code",
   "execution_count": 26,
   "metadata": {
    "collapsed": false,
    "scrolled": false
   },
   "outputs": [
    {
     "data": {
      "text/plain": [
       "'\\npipe = make_pipeline(TfidfVectorizer(min_df=5, token_pattern = r\"\\x08\\\\w\\\\w+\\x08\", stop_words=\"english\"),\\n                     LogisticRegression())\\nparam_grid = {\"logisticregression__C\": [0.001, 0.01, 0.1, 1, 10, 100],\\n\"tfidfvectorizer__ngram_range\": [(1, 1), (1, 2), (1, 3)]}\\n\\ngrid = GridSearchCV(pipe, param_grid, cv=5, scoring = \\'f1_macro\\')\\ngrid.fit(X_train, y_train)\\nprint(\"Best cross-validation score: {:.2f}\".format(grid.best_score_))\\nprint(\"Best parameters:\\n{}\".format(grid.best_params_))\\n\\ny_pred = grid.predict(X_test)\\nprint(\"Test set score: {:.2f}\".format(f1_score(y_pred, y_test, average=\\'macro\\')))\\n\\nOUTPUT:\\nBest cross-validation score: 0.57\\nBest parameters:\\n{\\'logisticregression__C\\': 10, \\'tfidfvectorizer__ngram_range\\': (1, 3)}\\nTest set score: 0.59\\n'"
      ]
     },
     "execution_count": 26,
     "metadata": {},
     "output_type": "execute_result"
    }
   ],
   "source": [
    "from sklearn.model_selection import GridSearchCV\n",
    "'''\n",
    "pipe = make_pipeline(TfidfVectorizer(min_df=5, token_pattern = r\"\\b\\w\\w+\\b\", stop_words=\"english\"),\n",
    "                     LogisticRegression())\n",
    "param_grid = {\"logisticregression__C\": [0.001, 0.01, 0.1, 1, 10, 100],\n",
    "\"tfidfvectorizer__ngram_range\": [(1, 1), (1, 2), (1, 3)]}\n",
    "\n",
    "grid = GridSearchCV(pipe, param_grid, cv=5, scoring = 'f1_macro')\n",
    "grid.fit(X_train, y_train)\n",
    "print(\"Best cross-validation score: {:.2f}\".format(grid.best_score_))\n",
    "print(\"Best parameters:\\n{}\".format(grid.best_params_))\n",
    "\n",
    "y_pred = grid.predict(X_test)\n",
    "print(\"Test set score: {:.2f}\".format(f1_score(y_pred, y_test, average='macro')))\n",
    "\n",
    "OUTPUT:\n",
    "Best cross-validation score: 0.57\n",
    "Best parameters:\n",
    "{'logisticregression__C': 10, 'tfidfvectorizer__ngram_range': (1, 3)}\n",
    "Test set score: 0.59\n",
    "'''"
   ]
  },
  {
   "cell_type": "markdown",
   "metadata": {},
   "source": [
    "It did not improve our score. Let's try just using the default token_pattern and without stop_words, see if it's improving our score. We will still tune the regularizatoin parameter C of LogisticRegression via cross-validation to improve our score."
   ]
  },
  {
   "cell_type": "code",
   "execution_count": 27,
   "metadata": {
    "collapsed": false,
    "scrolled": false
   },
   "outputs": [
    {
     "name": "stderr",
     "output_type": "stream",
     "text": [
      "C:\\ProgramData\\Anaconda2\\envs\\py34\\lib\\site-packages\\sklearn\\metrics\\classification.py:1113: UndefinedMetricWarning: F-score is ill-defined and being set to 0.0 in labels with no predicted samples.\n",
      "  'precision', 'predicted', average, warn_for)\n",
      "C:\\ProgramData\\Anaconda2\\envs\\py34\\lib\\site-packages\\sklearn\\metrics\\classification.py:1113: UndefinedMetricWarning: F-score is ill-defined and being set to 0.0 in labels with no predicted samples.\n",
      "  'precision', 'predicted', average, warn_for)\n",
      "C:\\ProgramData\\Anaconda2\\envs\\py34\\lib\\site-packages\\sklearn\\metrics\\classification.py:1113: UndefinedMetricWarning: F-score is ill-defined and being set to 0.0 in labels with no predicted samples.\n",
      "  'precision', 'predicted', average, warn_for)\n",
      "C:\\ProgramData\\Anaconda2\\envs\\py34\\lib\\site-packages\\sklearn\\metrics\\classification.py:1113: UndefinedMetricWarning: F-score is ill-defined and being set to 0.0 in labels with no predicted samples.\n",
      "  'precision', 'predicted', average, warn_for)\n",
      "C:\\ProgramData\\Anaconda2\\envs\\py34\\lib\\site-packages\\sklearn\\metrics\\classification.py:1113: UndefinedMetricWarning: F-score is ill-defined and being set to 0.0 in labels with no predicted samples.\n",
      "  'precision', 'predicted', average, warn_for)\n",
      "C:\\ProgramData\\Anaconda2\\envs\\py34\\lib\\site-packages\\sklearn\\metrics\\classification.py:1113: UndefinedMetricWarning: F-score is ill-defined and being set to 0.0 in labels with no predicted samples.\n",
      "  'precision', 'predicted', average, warn_for)\n",
      "C:\\ProgramData\\Anaconda2\\envs\\py34\\lib\\site-packages\\sklearn\\metrics\\classification.py:1113: UndefinedMetricWarning: F-score is ill-defined and being set to 0.0 in labels with no predicted samples.\n",
      "  'precision', 'predicted', average, warn_for)\n",
      "C:\\ProgramData\\Anaconda2\\envs\\py34\\lib\\site-packages\\sklearn\\metrics\\classification.py:1113: UndefinedMetricWarning: F-score is ill-defined and being set to 0.0 in labels with no predicted samples.\n",
      "  'precision', 'predicted', average, warn_for)\n",
      "C:\\ProgramData\\Anaconda2\\envs\\py34\\lib\\site-packages\\sklearn\\metrics\\classification.py:1113: UndefinedMetricWarning: F-score is ill-defined and being set to 0.0 in labels with no predicted samples.\n",
      "  'precision', 'predicted', average, warn_for)\n",
      "C:\\ProgramData\\Anaconda2\\envs\\py34\\lib\\site-packages\\sklearn\\metrics\\classification.py:1113: UndefinedMetricWarning: F-score is ill-defined and being set to 0.0 in labels with no predicted samples.\n",
      "  'precision', 'predicted', average, warn_for)\n",
      "C:\\ProgramData\\Anaconda2\\envs\\py34\\lib\\site-packages\\sklearn\\metrics\\classification.py:1113: UndefinedMetricWarning: F-score is ill-defined and being set to 0.0 in labels with no predicted samples.\n",
      "  'precision', 'predicted', average, warn_for)\n",
      "C:\\ProgramData\\Anaconda2\\envs\\py34\\lib\\site-packages\\sklearn\\metrics\\classification.py:1113: UndefinedMetricWarning: F-score is ill-defined and being set to 0.0 in labels with no predicted samples.\n",
      "  'precision', 'predicted', average, warn_for)\n",
      "C:\\ProgramData\\Anaconda2\\envs\\py34\\lib\\site-packages\\sklearn\\metrics\\classification.py:1113: UndefinedMetricWarning: F-score is ill-defined and being set to 0.0 in labels with no predicted samples.\n",
      "  'precision', 'predicted', average, warn_for)\n",
      "C:\\ProgramData\\Anaconda2\\envs\\py34\\lib\\site-packages\\sklearn\\metrics\\classification.py:1113: UndefinedMetricWarning: F-score is ill-defined and being set to 0.0 in labels with no predicted samples.\n",
      "  'precision', 'predicted', average, warn_for)\n",
      "C:\\ProgramData\\Anaconda2\\envs\\py34\\lib\\site-packages\\sklearn\\metrics\\classification.py:1113: UndefinedMetricWarning: F-score is ill-defined and being set to 0.0 in labels with no predicted samples.\n",
      "  'precision', 'predicted', average, warn_for)\n",
      "C:\\ProgramData\\Anaconda2\\envs\\py34\\lib\\site-packages\\sklearn\\metrics\\classification.py:1113: UndefinedMetricWarning: F-score is ill-defined and being set to 0.0 in labels with no predicted samples.\n",
      "  'precision', 'predicted', average, warn_for)\n",
      "C:\\ProgramData\\Anaconda2\\envs\\py34\\lib\\site-packages\\sklearn\\metrics\\classification.py:1113: UndefinedMetricWarning: F-score is ill-defined and being set to 0.0 in labels with no predicted samples.\n",
      "  'precision', 'predicted', average, warn_for)\n",
      "C:\\ProgramData\\Anaconda2\\envs\\py34\\lib\\site-packages\\sklearn\\metrics\\classification.py:1113: UndefinedMetricWarning: F-score is ill-defined and being set to 0.0 in labels with no predicted samples.\n",
      "  'precision', 'predicted', average, warn_for)\n",
      "C:\\ProgramData\\Anaconda2\\envs\\py34\\lib\\site-packages\\sklearn\\metrics\\classification.py:1113: UndefinedMetricWarning: F-score is ill-defined and being set to 0.0 in labels with no predicted samples.\n",
      "  'precision', 'predicted', average, warn_for)\n",
      "C:\\ProgramData\\Anaconda2\\envs\\py34\\lib\\site-packages\\sklearn\\metrics\\classification.py:1113: UndefinedMetricWarning: F-score is ill-defined and being set to 0.0 in labels with no predicted samples.\n",
      "  'precision', 'predicted', average, warn_for)\n",
      "C:\\ProgramData\\Anaconda2\\envs\\py34\\lib\\site-packages\\sklearn\\metrics\\classification.py:1113: UndefinedMetricWarning: F-score is ill-defined and being set to 0.0 in labels with no predicted samples.\n",
      "  'precision', 'predicted', average, warn_for)\n",
      "C:\\ProgramData\\Anaconda2\\envs\\py34\\lib\\site-packages\\sklearn\\metrics\\classification.py:1113: UndefinedMetricWarning: F-score is ill-defined and being set to 0.0 in labels with no predicted samples.\n",
      "  'precision', 'predicted', average, warn_for)\n",
      "C:\\ProgramData\\Anaconda2\\envs\\py34\\lib\\site-packages\\sklearn\\metrics\\classification.py:1113: UndefinedMetricWarning: F-score is ill-defined and being set to 0.0 in labels with no predicted samples.\n",
      "  'precision', 'predicted', average, warn_for)\n",
      "C:\\ProgramData\\Anaconda2\\envs\\py34\\lib\\site-packages\\sklearn\\metrics\\classification.py:1113: UndefinedMetricWarning: F-score is ill-defined and being set to 0.0 in labels with no predicted samples.\n",
      "  'precision', 'predicted', average, warn_for)\n",
      "C:\\ProgramData\\Anaconda2\\envs\\py34\\lib\\site-packages\\sklearn\\metrics\\classification.py:1113: UndefinedMetricWarning: F-score is ill-defined and being set to 0.0 in labels with no predicted samples.\n",
      "  'precision', 'predicted', average, warn_for)\n",
      "C:\\ProgramData\\Anaconda2\\envs\\py34\\lib\\site-packages\\sklearn\\metrics\\classification.py:1113: UndefinedMetricWarning: F-score is ill-defined and being set to 0.0 in labels with no predicted samples.\n",
      "  'precision', 'predicted', average, warn_for)\n",
      "C:\\ProgramData\\Anaconda2\\envs\\py34\\lib\\site-packages\\sklearn\\metrics\\classification.py:1113: UndefinedMetricWarning: F-score is ill-defined and being set to 0.0 in labels with no predicted samples.\n",
      "  'precision', 'predicted', average, warn_for)\n",
      "C:\\ProgramData\\Anaconda2\\envs\\py34\\lib\\site-packages\\sklearn\\metrics\\classification.py:1113: UndefinedMetricWarning: F-score is ill-defined and being set to 0.0 in labels with no predicted samples.\n",
      "  'precision', 'predicted', average, warn_for)\n",
      "C:\\ProgramData\\Anaconda2\\envs\\py34\\lib\\site-packages\\sklearn\\metrics\\classification.py:1113: UndefinedMetricWarning: F-score is ill-defined and being set to 0.0 in labels with no predicted samples.\n",
      "  'precision', 'predicted', average, warn_for)\n",
      "C:\\ProgramData\\Anaconda2\\envs\\py34\\lib\\site-packages\\sklearn\\metrics\\classification.py:1113: UndefinedMetricWarning: F-score is ill-defined and being set to 0.0 in labels with no predicted samples.\n",
      "  'precision', 'predicted', average, warn_for)\n",
      "C:\\ProgramData\\Anaconda2\\envs\\py34\\lib\\site-packages\\sklearn\\metrics\\classification.py:1113: UndefinedMetricWarning: F-score is ill-defined and being set to 0.0 in labels with no predicted samples.\n",
      "  'precision', 'predicted', average, warn_for)\n",
      "C:\\ProgramData\\Anaconda2\\envs\\py34\\lib\\site-packages\\sklearn\\metrics\\classification.py:1113: UndefinedMetricWarning: F-score is ill-defined and being set to 0.0 in labels with no predicted samples.\n",
      "  'precision', 'predicted', average, warn_for)\n",
      "C:\\ProgramData\\Anaconda2\\envs\\py34\\lib\\site-packages\\sklearn\\metrics\\classification.py:1113: UndefinedMetricWarning: F-score is ill-defined and being set to 0.0 in labels with no predicted samples.\n",
      "  'precision', 'predicted', average, warn_for)\n",
      "C:\\ProgramData\\Anaconda2\\envs\\py34\\lib\\site-packages\\sklearn\\metrics\\classification.py:1113: UndefinedMetricWarning: F-score is ill-defined and being set to 0.0 in labels with no predicted samples.\n",
      "  'precision', 'predicted', average, warn_for)\n",
      "C:\\ProgramData\\Anaconda2\\envs\\py34\\lib\\site-packages\\sklearn\\metrics\\classification.py:1113: UndefinedMetricWarning: F-score is ill-defined and being set to 0.0 in labels with no predicted samples.\n",
      "  'precision', 'predicted', average, warn_for)\n",
      "C:\\ProgramData\\Anaconda2\\envs\\py34\\lib\\site-packages\\sklearn\\metrics\\classification.py:1113: UndefinedMetricWarning: F-score is ill-defined and being set to 0.0 in labels with no predicted samples.\n",
      "  'precision', 'predicted', average, warn_for)\n",
      "C:\\ProgramData\\Anaconda2\\envs\\py34\\lib\\site-packages\\sklearn\\metrics\\classification.py:1113: UndefinedMetricWarning: F-score is ill-defined and being set to 0.0 in labels with no predicted samples.\n",
      "  'precision', 'predicted', average, warn_for)\n",
      "C:\\ProgramData\\Anaconda2\\envs\\py34\\lib\\site-packages\\sklearn\\metrics\\classification.py:1113: UndefinedMetricWarning: F-score is ill-defined and being set to 0.0 in labels with no predicted samples.\n",
      "  'precision', 'predicted', average, warn_for)\n",
      "C:\\ProgramData\\Anaconda2\\envs\\py34\\lib\\site-packages\\sklearn\\metrics\\classification.py:1113: UndefinedMetricWarning: F-score is ill-defined and being set to 0.0 in labels with no predicted samples.\n",
      "  'precision', 'predicted', average, warn_for)\n",
      "C:\\ProgramData\\Anaconda2\\envs\\py34\\lib\\site-packages\\sklearn\\metrics\\classification.py:1113: UndefinedMetricWarning: F-score is ill-defined and being set to 0.0 in labels with no predicted samples.\n",
      "  'precision', 'predicted', average, warn_for)\n",
      "C:\\ProgramData\\Anaconda2\\envs\\py34\\lib\\site-packages\\sklearn\\metrics\\classification.py:1113: UndefinedMetricWarning: F-score is ill-defined and being set to 0.0 in labels with no predicted samples.\n",
      "  'precision', 'predicted', average, warn_for)\n",
      "C:\\ProgramData\\Anaconda2\\envs\\py34\\lib\\site-packages\\sklearn\\metrics\\classification.py:1113: UndefinedMetricWarning: F-score is ill-defined and being set to 0.0 in labels with no predicted samples.\n",
      "  'precision', 'predicted', average, warn_for)\n",
      "C:\\ProgramData\\Anaconda2\\envs\\py34\\lib\\site-packages\\sklearn\\metrics\\classification.py:1113: UndefinedMetricWarning: F-score is ill-defined and being set to 0.0 in labels with no predicted samples.\n",
      "  'precision', 'predicted', average, warn_for)\n",
      "C:\\ProgramData\\Anaconda2\\envs\\py34\\lib\\site-packages\\sklearn\\metrics\\classification.py:1113: UndefinedMetricWarning: F-score is ill-defined and being set to 0.0 in labels with no predicted samples.\n",
      "  'precision', 'predicted', average, warn_for)\n",
      "C:\\ProgramData\\Anaconda2\\envs\\py34\\lib\\site-packages\\sklearn\\metrics\\classification.py:1113: UndefinedMetricWarning: F-score is ill-defined and being set to 0.0 in labels with no predicted samples.\n",
      "  'precision', 'predicted', average, warn_for)\n"
     ]
    },
    {
     "name": "stdout",
     "output_type": "stream",
     "text": [
      "Best cross-validation score: 0.58\n",
      "Best parameters:\n",
      "{'logisticregression__C': 10, 'tfidfvectorizer__ngram_range': (1, 2)}\n",
      "Test set score: 0.61\n"
     ]
    }
   ],
   "source": [
    "pipe = make_pipeline(TfidfVectorizer(min_df=5, token_pattern = r\"\\b\\w\\w+\\b\"), LogisticRegression())\n",
    "param_grid = {\"logisticregression__C\": [0.001, 0.01, 0.1, 1, 10, 100],\n",
    "\"tfidfvectorizer__ngram_range\": [(1, 1), (1, 2), (1, 3)]}\n",
    "\n",
    "grid_m2 = GridSearchCV(pipe, param_grid, cv=5, scoring = 'f1_macro')\n",
    "grid_m2.fit(X_train, y_train)\n",
    "print(\"Best cross-validation score: {:.2f}\".format(grid_m2.best_score_))\n",
    "print(\"Best parameters:\\n{}\".format(grid_m2.best_params_))\n",
    "\n",
    "y_pred_m2 = grid_m2.predict(X_test)\n",
    "score_model2 = f1_score(y_pred_m2, y_test, average='macro')\n",
    "print(\"Test set score: {:.2f}\".format(score_model2))"
   ]
  },
  {
   "cell_type": "markdown",
   "metadata": {},
   "source": [
    "### Normalization\n",
    "\n",
    "We now want to apply a more advanced way to extract some normal form of a word, and see if this would improve our model. Therefore, we will first load spacy's English-language models and instantiate nltk's Porter stemmer, and also define function to compare lemmatization in spacy with stemming in nltk as follows."
   ]
  },
  {
   "cell_type": "markdown",
   "metadata": {},
   "source": [
    "#### *Lemmatization*"
   ]
  },
  {
   "cell_type": "code",
   "execution_count": 28,
   "metadata": {
    "collapsed": false
   },
   "outputs": [
    {
     "ename": "ImportError",
     "evalue": "No module named 'spacy'",
     "output_type": "error",
     "traceback": [
      "\u001b[0;31m---------------------------------------------------------------------------\u001b[0m",
      "\u001b[0;31mImportError\u001b[0m                               Traceback (most recent call last)",
      "\u001b[0;32m<ipython-input-28-ebc3f6cc74a6>\u001b[0m in \u001b[0;36m<module>\u001b[0;34m()\u001b[0m\n\u001b[1;32m      2\u001b[0m \u001b[1;33m\u001b[0m\u001b[0m\n\u001b[1;32m      3\u001b[0m \u001b[1;32mimport\u001b[0m \u001b[0mre\u001b[0m\u001b[1;33m\u001b[0m\u001b[0m\n\u001b[0;32m----> 4\u001b[0;31m \u001b[1;32mimport\u001b[0m \u001b[0mspacy\u001b[0m\u001b[1;33m\u001b[0m\u001b[0m\n\u001b[0m\u001b[1;32m      5\u001b[0m \u001b[1;32mimport\u001b[0m \u001b[0mnltk\u001b[0m\u001b[1;33m\u001b[0m\u001b[0m\n\u001b[1;32m      6\u001b[0m '''\n",
      "\u001b[0;31mImportError\u001b[0m: No module named 'spacy'"
     ]
    }
   ],
   "source": [
    "# using Lemmatization\n",
    "\n",
    "import re\n",
    "import spacy\n",
    "import nltk\n",
    "'''\n",
    "regexp = re.compile('(?u)\\\\b\\\\w\\\\w+\\\\b')\n",
    "en_nlp = spacy.load('en')\n",
    "old_tokenizer = en_nlp.tokenizer\n",
    "en_nlp.tokenizer = lambda string: old_tokenizer.tokens_from_list(regexp.findall(string))\n",
    "\n",
    "def lemmatization(document):\n",
    "    doc_spacy = en_nlp(document, entity=False, parse=False)\n",
    "    return [token.lemma_ for token in doc_spacy]\n",
    "\n",
    "vectorizer = TfidfVectorizer(min_df=5, tokenizer=lemmatization,\n",
    "                             ngram_range=(1, 2)).fit(X_train)\n",
    "print(\"Vocabulary size: {}\".format(len(vectorizer.vocabulary_)))\n",
    "\n",
    "pipe = make_pipeline(vectorizer, LogisticRegression(C=10))\n",
    "scores = cross_val_score(pipe, X_train, y_train, cv=5, scoring = 'f1_macro')\n",
    "print('Training set CV scores:',str(scores),'with mean of', str(np.mean(scores)))\n",
    "\n",
    "pipe.fit(X_train, y_train)\n",
    "y_pred = pipe.predict(X_test)\n",
    "print(\"Test set score: {:.2f}\".format(f1_score(y_pred, y_test, average='macro')))\n",
    "\n",
    "OUTPUT:\n",
    "Vocabulary size: 2\n",
    "Training set CV scores: [ 0.05   0.061  0.059  0.056  0.056] with mean of 0.0563339213387\n",
    "Test set score: 0.05\n",
    "'''"
   ]
  },
  {
   "cell_type": "markdown",
   "metadata": {},
   "source": [
    "Number of vocabulary used is too low. We will try if it improves using stemming."
   ]
  },
  {
   "cell_type": "markdown",
   "metadata": {},
   "source": [
    "#### *Stemming*"
   ]
  },
  {
   "cell_type": "code",
   "execution_count": null,
   "metadata": {
    "collapsed": false
   },
   "outputs": [],
   "source": [
    "# using Stemming\n",
    "'''\n",
    "stemmer = nltk.stem.PorterStemmer()\n",
    "\n",
    "def stemming(document):\n",
    "    doc_spacy = en_nlp(document)\n",
    "    return [stemmer.stem(token.norm_.lower()) for token in doc_spacy]\n",
    "\n",
    "vectorizer = TfidfVectorizer(min_df=5, tokenizer=stemming,\n",
    "                             ngram_range=(1, 2)).fit(X_train)\n",
    "print(\"Vocabulary size: {}\".format(len(vectorizer.vocabulary_)))\n",
    "\n",
    "pipe = make_pipeline(vectorizer, LogisticRegression(C=10))\n",
    "scores = cross_val_score(pipe, X_train, y_train, cv=5, scoring = 'f1_macro')\n",
    "print('Training set CV scores:',str(scores),'with mean of', str(np.mean(scores)))\n",
    "\n",
    "pipe.fit(X_train, y_train)\n",
    "y_pred = pipe.predict(X_test)\n",
    "print(\"Test set score: {:.2f}\".format(f1_score(y_pred, y_test, average='macro')))\n",
    "\n",
    "OUTPUT:\n",
    "Vocabulary size: 5033\n",
    "Training set CV scores: [ 0.61   0.586  0.592  0.582  0.597] with mean of 0.593457899293\n",
    "Test set score: 0.58\n",
    "'''"
   ]
  },
  {
   "cell_type": "markdown",
   "metadata": {},
   "source": [
    "We just saw that stemming words is better than performing lemmatization. We see above the model doesn't improve from just using `TfidfVectorizer` without normalization. So in this case, we will proceed with our highest model for next step:\n",
    "**`TfidfVectorizer` with `min_df` of 5 and `ngram_range` of (1, 2) and `Logistic Regression` with `C` parameter of 10**, with best cross validation score of 0.58 and a test score of 0.63."
   ]
  },
  {
   "cell_type": "markdown",
   "metadata": {},
   "source": [
    "### Assert Test Score above 0.59"
   ]
  },
  {
   "cell_type": "code",
   "execution_count": null,
   "metadata": {
    "collapsed": true
   },
   "outputs": [],
   "source": [
    "assert(score_model2 > 0.59)"
   ]
  },
  {
   "cell_type": "markdown",
   "metadata": {},
   "source": [
    "# Task4 - Visualize Results [10 points]"
   ]
  },
  {
   "cell_type": "markdown",
   "metadata": {},
   "source": [
    "Visualize results of the tuned model (classification results, confusion matrix, important features, example mistakes)."
   ]
  },
  {
   "cell_type": "markdown",
   "metadata": {},
   "source": [
    "### Classification Results"
   ]
  },
  {
   "cell_type": "code",
   "execution_count": null,
   "metadata": {
    "collapsed": false
   },
   "outputs": [],
   "source": [
    "print(\"Test set predictions:\\n {}\\n\".format(y_pred_m2))\n",
    "print(\"Test set score: {:.2f}\".format(np.mean(y_pred_m2 == y_test)))\n",
    "print(classification_report(y_test, y_pred_m2))"
   ]
  },
  {
   "cell_type": "markdown",
   "metadata": {},
   "source": [
    "We see here that our precision 0.62, represents a performance metric when the goal is to limit the number of\n",
    "false positives, that is, TP/(TP+FP). The precision is relatively good in our model, which allows us to see that the modeldoes not produce as many false positives—in other words. Our recall score of 0.61 represents a performance metric to identify all positive samples and avoid false negatives,\n",
    "that is, TP/(TP+FN). Finally, our f1 score of 0.61 represents a harmonic mean of precision and recall, which in this case assures accuracy of our model."
   ]
  },
  {
   "cell_type": "markdown",
   "metadata": {},
   "source": [
    "### Tuned Parameters"
   ]
  },
  {
   "cell_type": "code",
   "execution_count": null,
   "metadata": {
    "collapsed": false,
    "scrolled": false
   },
   "outputs": [],
   "source": [
    "scores = grid_m2.cv_results_['mean_test_score'].reshape(-1, 3).T\n",
    "\n",
    "heatmap = mglearn.tools.heatmap(\n",
    "    scores, xlabel=\"C\", ylabel=\"ngram_range\", cmap=\"viridis\", fmt=\"%.3f\",\n",
    "    xticklabels=param_grid['logisticregression__C'],\n",
    "    yticklabels=param_grid['tfidfvectorizer__ngram_range'])\n",
    "plt.colorbar(heatmap)\n",
    "plt.show()"
   ]
  },
  {
   "cell_type": "markdown",
   "metadata": {},
   "source": [
    "The heatmap above is constant with our result of 0.583 for the training set, where we use (1,2) as our ngram range and 10 as our c value for the logistic regression. The 0.583 is highlighted with the brightest color (highest value) in the heatmap."
   ]
  },
  {
   "cell_type": "markdown",
   "metadata": {},
   "source": [
    "### Confusion matrix"
   ]
  },
  {
   "cell_type": "code",
   "execution_count": null,
   "metadata": {
    "collapsed": false,
    "scrolled": false
   },
   "outputs": [],
   "source": [
    "plt.rcParams[\"figure.dpi\"] = 100\n",
    "pylab.rcParams['figure.figsize'] = 8, 8\n",
    "\n",
    "norm_conf = []\n",
    "\n",
    "def xrange(x):\n",
    "    return iter(range(x))\n",
    "\n",
    "for i in conf_arr:\n",
    "    a = 0\n",
    "    tmp_arr = []\n",
    "    a = sum(i, 0)\n",
    "    for j in i:\n",
    "        tmp_arr.append(float(j)/float(a))\n",
    "    norm_conf.append(tmp_arr)\n",
    "\n",
    "fig = plt.figure()\n",
    "plt.clf()\n",
    "ax = fig.add_subplot(111)\n",
    "ax.set_aspect(1)\n",
    "res = ax.imshow(np.array(norm_conf), cmap=\"Blues\", \n",
    "                interpolation='nearest')\n",
    "\n",
    "width, height = conf_arr.shape\n",
    "for x in xrange(width):\n",
    "    for y in xrange(height):\n",
    "        ax.annotate(str(conf_arr[x][y]), xy=(y, x), \n",
    "                    horizontalalignment='center',\n",
    "                    verticalalignment='center')\n",
    "\n",
    "cb = fig.colorbar(res)\n",
    "plt.xticks(range(width),)\n",
    "plt.yticks(range(height),)\n",
    "plt.show()\n",
    "\n",
    "print('Complaints Index Map:')\n",
    "for i in complaints_map_reindexed:\n",
    "    print(i,\":\",complaints_map_reindexed[i])"
   ]
  },
  {
   "cell_type": "markdown",
   "metadata": {
    "collapsed": false
   },
   "source": [
    "The model has an f1-score of 61%, which already tells us that we are doing pretty well. The confusion matrix above provides us with some more detail. As for the binary case, each row corresponds to a true label, and each column corresponds to a predicted label."
   ]
  },
  {
   "cell_type": "markdown",
   "metadata": {},
   "source": [
    "### Important features"
   ]
  },
  {
   "cell_type": "markdown",
   "metadata": {},
   "source": [
    "Based on parameters above, we can visualize our important features below."
   ]
  },
  {
   "cell_type": "code",
   "execution_count": null,
   "metadata": {
    "collapsed": false
   },
   "outputs": [],
   "source": [
    "# pipe_m2 = make_pipeline(TfidfVectorizer(min_df=5, ngram_range=(1, 3)), LogisticRegression(C=10))\n",
    "\n",
    "vect_model2 = TfidfVectorizer(min_df=5, ngram_range=(1, 3))\n",
    "\n",
    "X_train_model2 = vect_model2.fit_transform(X_train)\n",
    "lr_model2 = LogisticRegression(C=10).fit(X_train_model2, y_train)\n",
    "X_test_model2 = vect_model2.transform(X_test)\n",
    "\n",
    "print(\"Model 2 score: {:.2f}\".format(lr_model2.score(X_test_model2, y_test)))"
   ]
  },
  {
   "cell_type": "code",
   "execution_count": null,
   "metadata": {
    "collapsed": false
   },
   "outputs": [],
   "source": [
    "coef_model2 = lr_model2.coef_.T # length of 1642\n",
    "feature_names_model2 = np.array(vect_model2.get_feature_names())\n",
    "print(coef_model2.shape, feature_names_model2.shape)# length of 1642"
   ]
  },
  {
   "cell_type": "code",
   "execution_count": null,
   "metadata": {
    "collapsed": false
   },
   "outputs": [],
   "source": [
    "# sample of the first 100 feature names:\n",
    "feature_names_model2[:100]"
   ]
  },
  {
   "cell_type": "code",
   "execution_count": null,
   "metadata": {
    "collapsed": false
   },
   "outputs": [],
   "source": [
    "print(np.min(coef_model2))"
   ]
  },
  {
   "cell_type": "markdown",
   "metadata": {},
   "source": [
    "#### Across all 10 topics using 30 most and 30 least favorable features:"
   ]
  },
  {
   "cell_type": "code",
   "execution_count": null,
   "metadata": {
    "collapsed": false
   },
   "outputs": [],
   "source": [
    "def plot_important_features(coef, feature_names, top_n=20, ax=None):\n",
    "    if ax is None:\n",
    "        ax = plt.gca()\n",
    "\n",
    "    inds_max = np.argsort(np.max(coef, axis=1)).astype(int) # increasing order\n",
    "    inds_min = np.argsort(np.min(coef, axis=1)).astype(int)\n",
    "    \n",
    "    low = inds_min[:top_n]\n",
    "    high = inds_max[-top_n:]\n",
    "    \n",
    "    important_coef = np.hstack([np.min(coef, axis=1)[low],\n",
    "              np.max(coef, axis=1)[high]])\n",
    "    \n",
    "    important = np.hstack([low, high])\n",
    "    \n",
    "    myrange = range(len(important))\n",
    "    \n",
    "    ax.bar(myrange, important_coef)\n",
    "    ax.set_xticks(myrange)\n",
    "    ax.set_xticklabels(feature_names[important], rotation=70, ha=\"right\")\n",
    "    \n",
    "plt.figure(figsize=(15, 5))\n",
    "plot_important_features(coef_model2, feature_names_model2, top_n=30)"
   ]
  },
  {
   "cell_type": "markdown",
   "metadata": {},
   "source": [
    "The plot above allows us to see all the important features across all 10 topics. However the words bikes are in both ends, meaning it was very high for a topic and also was very low for another topic. Let's look at the features using each topic to fix this issue.\n",
    "\n",
    "#### For each of the 10 topics using 30 most and 30 least favorable features:"
   ]
  },
  {
   "cell_type": "code",
   "execution_count": null,
   "metadata": {
    "collapsed": false
   },
   "outputs": [],
   "source": [
    "def plot_features(coef, feature_names, top_n=20, ax=None):\n",
    "    if ax is None:\n",
    "        ax = plt.gca()\n",
    "\n",
    "    inds = np.argsort(coef)\n",
    "    low = inds[:top_n]\n",
    "    high = inds[-top_n:]\n",
    "    \n",
    "    important_coef = np.hstack([low, high])\n",
    "    myrange = range(len(important_coef))\n",
    "    \n",
    "    ax.bar(myrange, coef[important_coef])\n",
    "    ax.set_xticks(myrange)\n",
    "    ax.set_xticklabels(feature_names[important_coef], rotation=70, ha=\"right\")\n",
    "\n",
    "\n",
    "fig = plt.figure()\n",
    "fig, axes = plt.subplots(11 // 3+1, 3, figsize=(18, 20))\n",
    "print(axes[1,1])\n",
    "for i, ax in enumerate(axes.flatten()):\n",
    "    if i > 10:\n",
    "        continue\n",
    "    ax.set_title(\"Topic %s\" %i)\n",
    "    plot_features(coef_model2[:,i], feature_names_model2, top_n=10, ax=ax)\n",
    "plt.tight_layout()  \n",
    "plt.show()\n",
    "\n",
    "print('Complaints Index Map:')\n",
    "for i in complaints_map_reindexed:\n",
    "    print(i,\":\",complaints_map_reindexed[i])"
   ]
  },
  {
   "cell_type": "markdown",
   "metadata": {},
   "source": [
    "### Example mistakes"
   ]
  },
  {
   "cell_type": "markdown",
   "metadata": {},
   "source": [
    "The matrix does not change so much since we improved only 2% from the first model, therefore mistakes found are very similar.\n",
    "\n",
    "Some classification mistakes can be found on the confusion matrix we plotted above. While most digits are correctly represented (indicated by darker region in the diagonal line of matrix), we saw that there are quite many digits that are misclassified. For instance, there are 14 digit 0's (J-walking) that are misclassified as 5 (other). There are 45 digit 3's (failure to yield) also misclassified as digit 5.  Digit 5 'Other' are also found to be misclassified, 17 of which are misclassified for 'ramps or sidewalks', 3 for 'roadway improvement', and 1 for 'wait for walk signal'. Some other tendency for mistakes can also be found in digit 9 (too far or too many lanes to cross or not enough time), where 13 of them are misclassified as class 3 (bike facilities dont exist or need improvement) and 6 of them as class 10 (wait for walk signal)."
   ]
  },
  {
   "cell_type": "markdown",
   "metadata": {},
   "source": [
    "# Task5 - Clustering [10 points]"
   ]
  },
  {
   "cell_type": "markdown",
   "metadata": {},
   "source": [
    "Apply LDA, NMF and K-Means to the whole dataset. Can you find clusters or topics that match well with some of the ground truth labels? Use ARI to compare the methods and visualize topics and clusters."
   ]
  },
  {
   "cell_type": "code",
   "execution_count": 29,
   "metadata": {
    "collapsed": true
   },
   "outputs": [],
   "source": [
    "from sklearn.cluster import KMeans\n",
    "from sklearn.decomposition import PCA, NMF, LatentDirichletAllocation\n",
    "from sklearn.metrics import adjusted_rand_score"
   ]
  },
  {
   "cell_type": "code",
   "execution_count": 30,
   "metadata": {
    "collapsed": false
   },
   "outputs": [
    {
     "data": {
      "image/png": "[encoded data removed]",
      "text/plain": [
       "<matplotlib.figure.Figure at 0xba207b8>"
      ]
     },
     "metadata": {},
     "output_type": "display_data"
    }
   ],
   "source": [
    "tfid = TfidfVectorizer(min_df=5, ngram_range=(1, 3))\n",
    "tfid.fit(X)\n",
    "X_tfid = tfid.transform(X)\n",
    "\n",
    "pca = PCA(n_components=50)\n",
    "pca.fit(X_tfid.toarray())\n",
    "explained = pca.explained_variance_\n",
    "\n",
    "fig = plt.figure()\n",
    "axes = fig.add_subplot(1,1,1)\n",
    "axes.plot(range(1, len(explained) + 1), explained)\n",
    "axes.set_ylabel('Explained Variance')\n",
    "axes.set_xlabel('Principle Component')\n",
    "plt.show()\n",
    "\n",
    "pca2 = PCA(n_components=3)\n",
    "projected_data_pca = pca2.fit_transform(X_tfid.toarray())"
   ]
  },
  {
   "cell_type": "code",
   "execution_count": null,
   "metadata": {
    "collapsed": false
   },
   "outputs": [],
   "source": [
    "# \n",
    "nn =  5\n",
    "ari_lda = np.zeros(nn)\n",
    "ari_nmf = np.zeros(nn)\n",
    "ari_kmn = np.zeros(nn)\n",
    "\n",
    "\n",
    "for i, topics in enumerate(range(7, 7 + nn)):\n",
    "    lda = LatentDirichletAllocation(n_topics=topics, learning_method='batch')\n",
    "    lda.fit(X_tfid.T)\n",
    "    clusters_lda = np.argmax(lda.components_, axis=0)\n",
    "    \n",
    "    nmf = NMF(n_components=topics)\n",
    "    nmf.fit(X_tfid.T)\n",
    "    clusters_nmf = np.argmax(nmf.components_, axis=0)\n",
    "    \n",
    "    kmn = KMeans(n_clusters=topics)\n",
    "    clusters_kmn = kmn.fit_predict(X_tfid)\n",
    "    \n",
    "    ari_lda[i] = adjusted_rand_score(y_true, clusters_lda)\n",
    "    ari_nmf[i] = adjusted_rand_score(y_true, clusters_nmf)\n",
    "    ari_kmn[i] = adjusted_rand_score(y_true, clusters_kmn)"
   ]
  },
  {
   "cell_type": "code",
   "execution_count": null,
   "metadata": {
    "collapsed": false
   },
   "outputs": [],
   "source": [
    "fig = plt.figure()\n",
    "axes = fig.add_subplot(1,1,1)\n",
    "axes.plot(range(7, 7+nn), ari_lda, 'b', label='lda')\n",
    "axes.plot(range(7, 7+nn), ari_nmf, 'r', label='nmf')\n",
    "axes.plot(range(7, 7+nn), ari_kmn, 'y', label='kmn')\n",
    "axes.set_xlabel('Number of Clusters')\n",
    "axes.set_ylabel('ARI score')\n",
    "axes.legend()\n",
    "plt.show()"
   ]
  },
  {
   "cell_type": "markdown",
   "metadata": {},
   "source": [
    "### LDA"
   ]
  },
  {
   "cell_type": "code",
   "execution_count": null,
   "metadata": {
    "collapsed": false
   },
   "outputs": [],
   "source": [
    "lda = LatentDirichletAllocation(n_topics = 13, learning_method='batch')\n",
    "lda.fit(X_tfid.T)\n",
    "clusters_lda = np.argmax(lda.components_, axis=0)"
   ]
  },
  {
   "cell_type": "code",
   "execution_count": null,
   "metadata": {
    "collapsed": false
   },
   "outputs": [],
   "source": [
    "fig=plt.figure(figsize=(10,5))\n",
    "axes1=fig.add_subplot(1,2,1)\n",
    "axes2=fig.add_subplot(1,2,2)\n",
    "\n",
    "for c in np.unique(clusters_lda):\n",
    "    axes1.scatter(projected_data_pca[c==clusters_lda,0], projected_data_pca[c==clusters_lda,1], s=1, \n",
    "                  label=c, alpha=0.5)\n",
    "    if c < 11:\n",
    "        axes2.scatter(projected_data_pca[c==y_true,0], projected_data_pca[c==y_true,1], s=1, \n",
    "                      label=complaints_map[c][:7], alpha=0.5)\n",
    "    \n",
    "axes1.set_xlabel('PC1')\n",
    "axes1.set_ylabel('PC2')\n",
    "axes1.set_ylabel('Predicted')\n",
    "\n",
    "axes2.legend(bbox_to_anchor=(1.05, 1))\n",
    "axes2.set_xlabel('PC1')\n",
    "axes2.set_ylabel('PC2')\n",
    "axes2.set_title('True')\n",
    "\n",
    "plt.show()\n",
    "\n",
    "print(\"ARI score between true and predicted clusterings: \", adjusted_rand_score(y_true, clusters_lda))"
   ]
  },
  {
   "cell_type": "code",
   "execution_count": null,
   "metadata": {
    "collapsed": false
   },
   "outputs": [],
   "source": [
    "nmf = NMF(n_components=6)\n",
    "\n",
    "nmf.fit(X_tfid.T)\n",
    "clusters_nmf = np.argmax(nmf.components_, axis=0)"
   ]
  },
  {
   "cell_type": "code",
   "execution_count": null,
   "metadata": {
    "collapsed": false
   },
   "outputs": [],
   "source": [
    "fig=plt.figure(figsize=(10,5))\n",
    "axes1=fig.add_subplot(1,2,1)\n",
    "axes2=fig.add_subplot(1,2,2)\n",
    "\n",
    "for c in np.unique(clusters_nmf):\n",
    "    axes1.scatter(projected_data_pca[c==clusters_nmf,0], projected_data_pca[c==clusters_nmf,1], s=1, label=c, alpha=0.5)\n",
    "\n",
    "for i in range(11):\n",
    "    axes2.scatter(projected_data_pca[np.int64(i)==y_true,0], projected_data_pca[np.int64(i)==y_true,1], s=1, \n",
    "                  label=complaints_map[i][:7], alpha=0.5)\n",
    "\n",
    "axes1.set_xlabel('PC1')\n",
    "axes1.set_ylabel('PC2')\n",
    "axes1.set_ylabel('Predicted')\n",
    "\n",
    "axes2.legend(bbox_to_anchor=(1.05, 1))\n",
    "axes2.set_xlabel('PC1')\n",
    "axes2.set_ylabel('PC2')\n",
    "axes2.set_title('True')\n",
    "\n",
    "plt.show()\n",
    "\n",
    "print(\"ARI score between true and predicted clusterings: \", adjusted_rand_score(y_true, clusters_nmf))"
   ]
  },
  {
   "cell_type": "markdown",
   "metadata": {},
   "source": [
    "### KMeans"
   ]
  },
  {
   "cell_type": "code",
   "execution_count": null,
   "metadata": {
    "collapsed": true
   },
   "outputs": [],
   "source": [
    "kmn = KMeans(n_clusters=15)\n",
    "clusters_kmn = kmn.fit_predict(X_tfid)"
   ]
  },
  {
   "cell_type": "code",
   "execution_count": null,
   "metadata": {
    "collapsed": false
   },
   "outputs": [],
   "source": [
    "fig=plt.figure(figsize=(10,5))\n",
    "axes1=fig.add_subplot(1,2,1)\n",
    "axes2=fig.add_subplot(1,2,2)\n",
    "\n",
    "for c in np.unique(clusters_kmn):\n",
    "    axes1.scatter(projected_data_pca[c==clusters_kmn,0], projected_data_pca[c==clusters_kmn,1], s=1, label=c, alpha=0.5)\n",
    "    if c < 11:\n",
    "        axes2.scatter(projected_data_pca[c==y_true,0], projected_data_pca[c==y_true,1], s=1, \n",
    "                  label=complaints_map[c][:7], alpha=0.5)\n",
    "    \n",
    "axes1.set_xlabel('PC1')\n",
    "axes1.set_ylabel('PC2')\n",
    "axes1.set_title('Predicted')\n",
    "\n",
    "axes2.legend(bbox_to_anchor=(1.05, 1), )\n",
    "axes2.set_xlabel('PC1')\n",
    "axes2.set_ylabel('PC2')\n",
    "axes2.set_title('True')\n",
    "\n",
    "plt.show()\n",
    "\n",
    "print(\"ARI score between true and predicted clusterings: \", adjusted_rand_score(y_true, clusters_kmn))"
   ]
  },
  {
   "cell_type": "markdown",
   "metadata": {},
   "source": [
    "# Task6 - Model 3 [30 points]"
   ]
  },
  {
   "cell_type": "markdown",
   "metadata": {},
   "source": [
    "Improve the class definition for REQUESTTYPE by using the results of the clustering and results of the previous classification model. Re-assign labels using either the results of clustering or using keywords that you found during data exploration. The labels must be semantically meaningful.\n",
    "The data has a large “other” category. Apply the topic modeling and clustering techniques to this subset of the data to find possible splits of this class.\n",
    "Report accuracy using macro average f1 score (should be above .53) \n"
   ]
  },
  {
   "cell_type": "markdown",
   "metadata": {},
   "source": [
    "### Condensing Categories"
   ]
  },
  {
   "cell_type": "code",
   "execution_count": null,
   "metadata": {
    "collapsed": false
   },
   "outputs": [],
   "source": [
    "# Add your code for task 6 here. You may use multiple cells. \n",
    "#condense categories as clustering showed fewer clusters/topics than we have\n",
    "type_to_key_update = [0, 1, 2, 2, 6, 1, 1, 3, 3, 4, 1, 1, 3, 3, 1, 5, 5, 1, 0, 1, 1]\n",
    "updated_complaints_map = {\n",
    "                            0 : \"bike facilities\",\n",
    "                            1 : \"crosswalks ramps or sidewalks\",\n",
    "                            2 : \"low visibility\",\n",
    "                            3 : \"traffic violation\",\n",
    "                            4 : \"double parking\",\n",
    "                            5 : \"roadway improvement\",\n",
    "                            6 : \"other\"\n",
    "                            }\n",
    "\n",
    "for i, line in enumerate(np.unique(df['REQUESTTYPE'])):\n",
    "    df['code'][df['REQUESTTYPE'] == line] = updated_complaints_map[type_to_key_update[i]]\n",
    "    df['y_true'][df['REQUESTTYPE'] == line] = type_to_key_update[i]\n",
    "    \n",
    "y_update = df['code']\n",
    "y_true_update = df['y_true']"
   ]
  },
  {
   "cell_type": "code",
   "execution_count": null,
   "metadata": {
    "collapsed": true
   },
   "outputs": [],
   "source": [
    "X_u_train, X_u_test, y_u_train, y_u_test = train_test_split(X, y_update)"
   ]
  },
  {
   "cell_type": "code",
   "execution_count": null,
   "metadata": {
    "collapsed": false
   },
   "outputs": [],
   "source": [
    "pipe = make_pipeline(TfidfVectorizer(min_df=5, ngram_range = (1,2)), LogisticRegression(C = 10))\n",
    "scores = cross_val_score(pipe, X_u_train, y_u_train, cv=5, scoring='f1_macro')\n",
    "print(scores, np.mean(scores))\n",
    "\n",
    "pipe.fit(X_u_train, y_u_train)\n",
    "y_pred = pipe.predict(X_u_test)\n",
    "score_model3 = f1_score(y_pred, y_u_test, average='macro')\n",
    "print(\"Model3 Test f1_macro score: \", score_model3)"
   ]
  },
  {
   "cell_type": "markdown",
   "metadata": {},
   "source": [
    "### Assert model3 scores above 0.63"
   ]
  },
  {
   "cell_type": "code",
   "execution_count": null,
   "metadata": {
    "collapsed": true
   },
   "outputs": [],
   "source": [
    "assert(score_model3 > 0.63)"
   ]
  },
  {
   "cell_type": "markdown",
   "metadata": {},
   "source": [
    "### Dealing with Other"
   ]
  },
  {
   "cell_type": "code",
   "execution_count": null,
   "metadata": {
    "collapsed": false
   },
   "outputs": [],
   "source": [
    "others = df[df['REQUESTTYPE'] == 'of something that is not listed here']\n",
    "\n",
    "X_other = others[\"COMMENTS\"]\n",
    "\n",
    "tfid_for_other = TfidfVectorizer(min_df=5)\n",
    "tfid_for_other.fit(X_other)\n",
    "other_tfid = tfid_for_other.transform(X_other)\n",
    "\n",
    "pca = PCA(n_components=30)\n",
    "pca.fit(other_tfid.toarray())\n",
    "explained = pca.explained_variance_\n",
    "\n",
    "fig = plt.figure()\n",
    "axes = fig.add_subplot(1,1,1)\n",
    "axes.plot(range(1, len(explained) + 1), explained)\n",
    "axes.set_ylabel('Explained Variance')\n",
    "axes.set_xlabel('Principle Component')\n",
    "plt.show()\n",
    "\n",
    "pca2 = PCA(n_components=3)\n",
    "projected_other = pca2.fit_transform(other_tfid.toarray())"
   ]
  },
  {
   "cell_type": "code",
   "execution_count": null,
   "metadata": {
    "collapsed": false
   },
   "outputs": [],
   "source": [
    "fig=plt.figure(figsize=(10,10))\n",
    "axes1=fig.add_subplot(2,2,1)\n",
    "axes2=fig.add_subplot(2,2,2)\n",
    "axes3=fig.add_subplot(2,2,3)\n",
    "\n",
    "for c in np.unique(clusters_nmf_o):\n",
    "    axes1.scatter(projected_other[c == clusters_lda_o,0], \n",
    "                  projected_other[c == clusters_lda_o, 1], \n",
    "                  s = 1, label = c, alpha = 0.5)\n",
    "\n",
    "    axes2.scatter(projected_other[c == clusters_nmf_o,0], \n",
    "                  projected_other[c == clusters_nmf_o, 1], \n",
    "                  s = 1, label = c, alpha = 0.5)\n",
    "\n",
    "    axes3.scatter(projected_other[c == clusters_kmn_o,0], \n",
    "                  projected_other[c == clusters_kmn_o, 1], \n",
    "                  s = 1, label = c, alpha = 0.5)\n",
    "\n",
    "axes1.legend(bbox_to_anchor=(1.05, 1))\n",
    "axes1.set_xlabel('PC1')\n",
    "axes1.set_ylabel('PC2')\n",
    "axes1.set_title('LDA')\n",
    "\n",
    "axes2.legend(bbox_to_anchor=(1.05, 1))\n",
    "axes2.set_xlabel('PC1')\n",
    "axes2.set_ylabel('PC2')\n",
    "axes2.set_title('NMF')\n",
    "\n",
    "axes3.legend(bbox_to_anchor=(1.05, 1))\n",
    "axes3.set_xlabel('PC1')\n",
    "axes3.set_ylabel('PC2')\n",
    "axes3.set_title('KMeans')\n",
    "\n",
    "plt.show()"
   ]
  },
  {
   "cell_type": "code",
   "execution_count": null,
   "metadata": {
    "collapsed": false
   },
   "outputs": [],
   "source": [
    "cv_other_scores = cross_val_score(LogisticRegression(C=10), other_tfid, clusters_nmf_o, cv=3, scoring='f1_macro')\n",
    "print('NMF cross val scores: ', cv_other_scores, np.mean(cv_other_scores))\n",
    "\n",
    "cv_other_scores = cross_val_score(LogisticRegression(C=10), other_tfid, clusters_kmn_o, cv=3, scoring='f1_macro')\n",
    "print('KMN cross val scores: ', cv_other_scores, np.mean(cv_other_scores))\n",
    "\n",
    "cv_other_scores = cross_val_score(LogisticRegression(C=10), other_tfid, clusters_lda_o, cv=3, scoring='f1_macro')\n",
    "print('LDA cross val scores: ', cv_other_scores, np.mean(cv_other_scores))\n",
    "\n",
    "#Proceed with KMN\n",
    "\n",
    "\n",
    "\n",
    "coef_model2 = lr_model2.coef_.T # length of 1642\n",
    "feature_names_model2 = np.array(vect_model2.get_feature_names())\n",
    "\n",
    "print(len(clusters_nmf_o))\n",
    "print(X_other)\n",
    "\n",
    "tfidf_vect = TfidfVectorizer(min_df=5)\n",
    "tfidf_vect.fit(X_other[np.int64(0) == clusters_nmf_o])\n",
    "print(tfidf_vect.get_feature_names)\n"
   ]
  },
  {
   "cell_type": "code",
   "execution_count": null,
   "metadata": {
    "collapsed": false
   },
   "outputs": [],
   "source": [
    "def plot_other_features(coef, feature_names, top_n=20, ax=None):\n",
    "    if ax is None:\n",
    "        ax = plt.gca()\n",
    "\n",
    "    inds = np.argsort(coef)\n",
    "    \n",
    "    low = inds[:top_n]\n",
    "    high = inds[-top_n:]\n",
    "    \n",
    "    important_coef = np.hstack([low, high])\n",
    "    \n",
    "    myrange = range(len(important_coef))\n",
    "    \n",
    "    ax.bar(myrange, coef[important_coef])\n",
    "    ax.set_xticks(myrange)\n",
    "    ax.set_xticklabels(feature_names[important_coef], rotation=70, ha=\"right\")\n",
    "\n",
    "lr_model_other = LogisticRegression(C=10).fit(other_tfid, clusters_kmn_o)\n",
    "\n",
    "coef_other = lr_model_other.coef_.T\n",
    "feature_names_other = np.array(tfid_for_other.get_feature_names())\n",
    "\n",
    "for i in range(4):\n",
    "    plt.figure(figsize=(15, 5))\n",
    "    plt.title('Cluster %s' %i)\n",
    "    plot_other_features(coef_other[:,i], feature_names_other, top_n=25)\n",
    "\n",
    "    \n",
    "other_categories={ 0 : 'True other',\n",
    "                   1 : 'Wrong way on a one way',\n",
    "                   2 : 'crosswalks ramps or sidewalks',\n",
    "                   3 : 'left turn at night difficult'}"
   ]
  },
  {
   "cell_type": "markdown",
   "metadata": {},
   "source": [
    "# Extra Credit [Up to +20 points]"
   ]
  },
  {
   "cell_type": "markdown",
   "metadata": {},
   "source": [
    "Use a word embedding representation like word2vec for step 3 and or step 6. "
   ]
  },
  {
   "cell_type": "markdown",
   "metadata": {},
   "source": [
    "### Doc2Vec\n",
    "\n",
    "Doc2Vec is a great way to explore relationships between documents. Improve the model using more complex text features, including n-grams, character n-grams and possibly domain-specific features.\n",
    "\n",
    "#### Read and preprocess text"
   ]
  },
  {
   "cell_type": "code",
   "execution_count": null,
   "metadata": {
    "collapsed": true
   },
   "outputs": [],
   "source": [
    "import gensim\n",
    "import os\n",
    "import collections\n",
    "import smart_open\n",
    "import random"
   ]
  },
  {
   "cell_type": "code",
   "execution_count": null,
   "metadata": {
    "collapsed": false
   },
   "outputs": [],
   "source": [
    "def read_corpus(f, tokens_only=False):\n",
    "    for i, line in enumerate(f):\n",
    "        aList.append(line)\n",
    "        if tokens_only:\n",
    "            yield gensim.utils.simple_preprocess(line)\n",
    "        else:\n",
    "            yield gensim.models.doc2vec.TaggedDocument(gensim.utils.simple_preprocess(line), [i])"
   ]
  },
  {
   "cell_type": "code",
   "execution_count": null,
   "metadata": {
    "collapsed": true
   },
   "outputs": [],
   "source": [
    "train_corpus = list(read_corpus(X_train))\n",
    "test_corpus = list(read_corpus(X_test, tokens_only=True))"
   ]
  },
  {
   "cell_type": "markdown",
   "metadata": {},
   "source": [
    "See some examples:"
   ]
  },
  {
   "cell_type": "code",
   "execution_count": null,
   "metadata": {
    "collapsed": false,
    "scrolled": true
   },
   "outputs": [],
   "source": [
    "train_corpus[:2]"
   ]
  },
  {
   "cell_type": "code",
   "execution_count": null,
   "metadata": {
    "collapsed": false
   },
   "outputs": [],
   "source": [
    "test_corpus[:2]"
   ]
  },
  {
   "cell_type": "markdown",
   "metadata": {},
   "source": [
    "#### Training the model"
   ]
  },
  {
   "cell_type": "markdown",
   "metadata": {},
   "source": [
    "Build a vocabulary as follows."
   ]
  },
  {
   "cell_type": "code",
   "execution_count": null,
   "metadata": {
    "collapsed": false
   },
   "outputs": [],
   "source": [
    "model = gensim.models.doc2vec.Doc2Vec(size=50, min_count=2, iter=55)\n",
    "model.build_vocab(train_corpus)\n",
    "# %time model.train(train_corpus, total_examples=model.corpus_count, epochs=model.iter)"
   ]
  },
  {
   "cell_type": "markdown",
   "metadata": {},
   "source": [
    "Let's try a vocab word to count and infer a vector:"
   ]
  },
  {
   "cell_type": "code",
   "execution_count": null,
   "metadata": {
    "collapsed": false
   },
   "outputs": [],
   "source": [
    "model.wv.vocab['bike'].count"
   ]
  },
  {
   "cell_type": "code",
   "execution_count": null,
   "metadata": {
    "collapsed": false
   },
   "outputs": [],
   "source": [
    "model.infer_vector(['bikers','often','run','red','lights','and','not','stopping'])"
   ]
  },
  {
   "cell_type": "markdown",
   "metadata": {},
   "source": [
    "#### Assessing Model\n",
    "To assess our new model, we'll first infer new vectors for each document of the training corpus, compare the inferred vectors with the training corpus, and then returning the rank of the document based on self-similarity. Basically, we're pretending as if the training corpus is some new unseen data and then seeing how they compare with the trained model. The expectation is that we've likely overfit our model (i.e., all of the ranks will be less than 2) and so we should be able to find similar documents very easily. Additionally, we'll keep track of the second ranks for a comparison of less similar documents."
   ]
  },
  {
   "cell_type": "code",
   "execution_count": null,
   "metadata": {
    "collapsed": false,
    "scrolled": false
   },
   "outputs": [],
   "source": [
    "ranks = []\n",
    "second_ranks = []\n",
    "for doc_id in range(len(train_corpus)):\n",
    "    inferred_vector = model.infer_vector(train_corpus[doc_id].words)\n",
    "    sims = model.docvecs.most_similar([inferred_vector], topn=len(model.docvecs))\n",
    "    rank = [docid for docid, sim in sims].index(doc_id)\n",
    "    ranks.append(rank)\n",
    "    \n",
    "    second_ranks.append(sims[1])\n",
    "\n",
    "count_ranks = collections.Counter(ranks)  # Results vary due to random seeding and very small corpus"
   ]
  },
  {
   "cell_type": "code",
   "execution_count": null,
   "metadata": {
    "collapsed": false
   },
   "outputs": [],
   "source": [
    "count_ranks[1469]"
   ]
  },
  {
   "cell_type": "markdown",
   "metadata": {},
   "source": [
    "Basically, greater than 95% of the inferred documents are found to be most similar to itself and about 5% of the time it is mistakenly most similar to another document. the checking of an inferred-vector against a training-vector is a sort of 'sanity check' as to whether the model is behaving in a usefully consistent manner, though not a real 'accuracy' value."
   ]
  },
  {
   "cell_type": "code",
   "execution_count": null,
   "metadata": {
    "collapsed": false
   },
   "outputs": [],
   "source": [
    "print('Document ({}): «{}»\\n'.format(doc_id, ' '.join(train_corpus[doc_id].words)))\n",
    "print(u'SIMILAR/DISSIMILAR DOCS PER MODEL %s:\\n' % model)\n",
    "for label, index in [('MOST', 0), ('MEDIAN', len(sims)//2), ('LEAST', len(sims) - 1)]:\n",
    "    print(u'%s %s: «%s»\\n' % (label, sims[index], ' '.join(train_corpus[sims[index][0]].words)))"
   ]
  },
  {
   "cell_type": "code",
   "execution_count": null,
   "metadata": {
    "collapsed": false
   },
   "outputs": [],
   "source": [
    "# Pick a random document from the test corpus and infer a vector from the model\n",
    "doc_id = random.randint(0, len(train_corpus))\n",
    "\n",
    "# Compare and print the most/median/least similar documents from the train corpus\n",
    "print('Train Document ({}): «{}»\\n'.format(doc_id, ' '.join(train_corpus[doc_id].words)))\n",
    "sim_id = second_ranks[doc_id]\n",
    "print('Similar Document {}: «{}»\\n'.format(sim_id, ' '.join(train_corpus[sim_id[0]].words)))"
   ]
  },
  {
   "cell_type": "markdown",
   "metadata": {},
   "source": [
    "#### Testing the model"
   ]
  },
  {
   "cell_type": "code",
   "execution_count": null,
   "metadata": {
    "collapsed": false
   },
   "outputs": [],
   "source": [
    "# Pick a random document from the test corpus and infer a vector from the model\n",
    "doc_id = random.randint(0, len(test_corpus))\n",
    "inferred_vector = model.infer_vector(test_corpus[doc_id])\n",
    "sims = model.docvecs.most_similar([inferred_vector], topn=len(model.docvecs))\n",
    "\n",
    "# Compare and print the most/median/least similar documents from the train corpus\n",
    "print('Test Document ({}): «{}»\\n'.format(doc_id, ' '.join(test_corpus[doc_id])))\n",
    "print(u'SIMILAR/DISSIMILAR DOCS PER MODEL %s:\\n' % model)\n",
    "for label, index in [('MOST', 0), ('MEDIAN', len(sims)//2), ('LEAST', len(sims) - 1)]:\n",
    "    print(u'%s %s: «%s»\\n' % (label, sims[index], ' '.join(train_corpus[sims[index][0]].words)))"
   ]
  },
  {
   "cell_type": "code",
   "execution_count": null,
   "metadata": {
    "collapsed": true
   },
   "outputs": [],
   "source": [
    "y_train_labels = []\n",
    "X_train_vector = np.zeros((len(train_corpus),50))\n",
    "for i,doc_id in enumerate(X_train.index):\n",
    "    X_train_vector[i] = model.infer_vector(train_corpus[i].words)\n",
    "    y_train_labels.append(y_train[doc_id])\n",
    "\n",
    "y_test_labels = []\n",
    "X_test_vector = np.zeros((len(test_corpus), 50))\n",
    "for i,doc_id in enumerate(X_test.index):\n",
    "    X_test_vector[i] = model.infer_vector(test_corpus[i])\n",
    "    y_test_labels.append(y_test[doc_id])\n",
    "    \n",
    "lr = LogisticRegression(C=10)\n",
    "lr.fit(X_train_vector, y_train_labels)\n",
    "scores = cross_val_score(lr, X_train_vector, y_train_labels, cv=5, scoring = 'f1_macro')\n",
    "\n",
    "y_pred = lr.predict(X_test_vector)\n",
    "\n",
    "print(\"Cross val scores and mean: \", scores, np.mean(scores))\n",
    "print(\"Test score: \", f1_score(y_pred, y_test_labels, average='macro'))"
   ]
  },
  {
   "cell_type": "code",
   "execution_count": null,
   "metadata": {
    "collapsed": true
   },
   "outputs": [],
   "source": [
    "end = time.clock()\n",
    "\n",
    "print('Total time taken to execute:',str(end-start))"
   ]
  }
 ],
 "metadata": {
  "anaconda-cloud": {},
  "kernelspec": {
   "display_name": "Python 3",
   "language": "python",
   "name": "python3"
  },
  "language_info": {
   "codemirror_mode": {
    "name": "ipython",
    "version": 3
   },
   "file_extension": ".py",
   "mimetype": "text/x-python",
   "name": "python",
   "nbconvert_exporter": "python",
   "pygments_lexer": "ipython3",
   "version": "3.4.5"
  }
 },
 "nbformat": 4,
 "nbformat_minor": 1
}
